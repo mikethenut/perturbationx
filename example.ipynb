{
 "cells": [
  {
   "cell_type": "markdown",
   "metadata": {},
   "source": [
    "# PerturbationX\n",
    "PerturbationX is a package for analyzing causal networks in combination with gene expression data. It is based on the [TopoNPA](https://www.ncbi.nlm.nih.gov/pmc/articles/PMC4227138/) algorithm. It was developed as part of a Master's thesis at the University of Ljubljana, Faculty of Computer and Information Science and in collaboration with the National Institute of Biology. This notebook demonstrates the use of PerturbationX for analyzing a small causal network.\n",
    "\n",
    "## Installation\n",
    "The package can be installed from PyPI or directly from GitHub. It requires a Python version of 3.10 or newer. It is based on NetworkX and pandas and requires Cytoscape for visualization. The latter can be downloaded from [here](https://cytoscape.org/download.html).\n",
    "\n",
    "```bash\n",
    "python -m pip install perturbationx # PyPI\n",
    "python -m pip install git+https://github.com/mikethenut/perturbationx # GitHub\n",
    "```\n",
    "\n",
    "## Network import\n",
    "For demonstration purposes, a small example network with accompanying datasets is included in the package. The network core is based on the human Osmotic Stress network from the [Causal Biological Networks database](https://www.causalbionet.com/), available under Network ID [osmotic_stress_2.0_hs](https://www.causalbionet.com/Home/NetworkVisualization/networkGraph?ID=osmotic_stress_2.0_hs). All non-causal edges were removed and the largest connected component was then selected. The network boundary and datasets were generated synthetically and do not correspond to any real biological system."
   ]
  },
  {
   "cell_type": "code",
   "execution_count": 1,
   "metadata": {
    "is_executing": true
   },
   "outputs": [],
   "source": [
    "import perturbationx as px\n",
    "from perturbationx import CausalNetwork\n",
    "\n",
    "core_network_file = px.resources.get_osmotic_stress_core_path() # path to the network core\n",
    "boundary_network_file = px.resources.get_osmotic_stress_boundary_path() # path to the network boundary\n",
    "osmotic_stress_network = CausalNetwork.from_tsv(core_network_file, edge_type=\"core\")\n",
    "osmotic_stress_network.add_edges_from_tsv(boundary_network_file, edge_type=\"boundary\")"
   ]
  },
  {
   "cell_type": "markdown",
   "metadata": {},
   "source": [
    "In this example, we imported core and boundary edges separately. The files contain three columns, with a header row of 'subject', 'object', and 'relation'. Adding a 'type' column would allow us to concatenate the files and import them in one step. When the input file specifies valid edge types in this way, the argument passed to the import function is ignored.\n",
    "\n",
    "A CausalNetwork can also be instantiated from CSV files (from_csv), other delimited files (from_dsv), Cytoscape json files (from_cyjs_json), NetworkX graphs (from_networkx), and pandas DataFrames (from_pandas). Refer to the documentation for more information.\n",
    "\n",
    "## Network manipulation\n",
    "We can now inspect the network. We will first look at the number of nodes and edges."
   ]
  },
  {
   "cell_type": "code",
   "execution_count": 2,
   "metadata": {},
   "outputs": [
    {
     "name": "stdout",
     "output_type": "stream",
     "text": [
      "Number of nodes: 131, 0 of which are core nodes.\n",
      "Number of edges: 436, 40 of which are core edges.\n"
     ]
    }
   ],
   "source": [
    "node_count = osmotic_stress_network.number_of_nodes()\n",
    "core_node_count = osmotic_stress_network.number_of_nodes(typ=\"core\")\n",
    "edge_count = osmotic_stress_network.number_of_edges()\n",
    "core_edge_count = osmotic_stress_network.number_of_edges(typ=\"core\")\n",
    "\n",
    "print(f\"Number of nodes: {node_count}, {core_node_count} of which are core nodes.\")\n",
    "print(f\"Number of edges: {edge_count}, {core_edge_count} of which are core edges.\")"
   ]
  },
  {
   "cell_type": "markdown",
   "metadata": {},
   "source": [
    "Wait, why does the network report zero core nodes? This is because node types are inferred dynamically during computation. While the network contains 131 nodes, none of them are currently assigned to the core or boundary. In order to see what the algorithm will do, we can use the following command."
   ]
  },
  {
   "cell_type": "code",
   "execution_count": 3,
   "metadata": {},
   "outputs": [
    {
     "name": "stdout",
     "output_type": "stream",
     "text": [
      "2023-11-05 21:15:50,120 INFO -- core edges: 40\n",
      "2023-11-05 21:15:50,122 INFO -- boundary edges: 396\n",
      "2023-11-05 21:15:50,123 INFO -- core nodes: 31\n",
      "2023-11-05 21:15:50,125 INFO -- outer boundary nodes: 100\n",
      "2023-11-05 21:15:50,126 INFO -- core nodes with boundary edges (inner boundary): 10\n",
      "The network contains 31 core nodes and 100 boundary nodes.\n"
     ]
    }
   ],
   "source": [
    "osmotic_stress_network.infer_graph_attributes(inplace=True)\n",
    "\n",
    "# Recompute node counts\n",
    "core_node_count = osmotic_stress_network.number_of_nodes(typ=\"core\")\n",
    "boundary_node_count = osmotic_stress_network.number_of_nodes(typ=\"boundary\")\n",
    "\n",
    "print(f\"The network contains {core_node_count} core nodes and {boundary_node_count} boundary nodes.\")"
   ]
  },
  {
   "cell_type": "markdown",
   "metadata": {},
   "source": [
    "As we can see, the nodes are now correctly assigned. We obtained the same statistics from internal logs. Logging is enabled by default and can be disabled by setting `verbose=False`.\n",
    "\n",
    "Next, let's try adding a new edge to the network."
   ]
  },
  {
   "cell_type": "code",
   "execution_count": 4,
   "metadata": {},
   "outputs": [
    {
     "name": "stdout",
     "output_type": "stream",
     "text": [
      "New edge: ('a(CHEBI:\"hydrogen peroxide\")', 'a(SCHEM:Dinoprostone)', {'relation': '1.0', 'type': 'infer'})\n"
     ]
    }
   ],
   "source": [
    "src, trg = 'a(CHEBI:\"hydrogen peroxide\")', 'a(SCHEM:Dinoprostone)'\n",
    "osmotic_stress_network.add_edge(src, trg, '1.0')\n",
    "\n",
    "for edge in osmotic_stress_network.edges():\n",
    "    v1, v2, data = edge\n",
    "    if v1 == src and v2 == trg:\n",
    "        print(\"New edge: \" + str(edge))"
   ]
  },
  {
   "cell_type": "markdown",
   "metadata": {},
   "source": [
    "The edge was successfully added, however its type was set to 'infer'. Let's specify the edge's type to prevent any errors during computation."
   ]
  },
  {
   "cell_type": "code",
   "execution_count": 5,
   "metadata": {},
   "outputs": [
    {
     "name": "stdout",
     "output_type": "stream",
     "text": [
      "Updated edge: ('a(CHEBI:\"hydrogen peroxide\")', 'a(SCHEM:Dinoprostone)', {'relation': '1.0', 'type': 'core'})\n"
     ]
    }
   ],
   "source": [
    "osmotic_stress_network.modify_edge(src, trg, typ='core')\n",
    "\n",
    "for edge in osmotic_stress_network.edges():\n",
    "    v1, v2, data = edge\n",
    "    if v1 == src and v2 == trg:\n",
    "        print(\"Updated edge: \" + str(edge))"
   ]
  },
  {
   "cell_type": "markdown",
   "metadata": {},
   "source": [
    "We specified the edge relation as `1.0`. This is the causal relationship between vertices and is used to assign edge weights during computation. By default, numeric parsing is enabled to allow setting weights directly. The default settings also map `increases`, `directlyIncreases`, `->` and `=>` to a weight of 1.0, and `decreases`, `directlyDecreases`, `-|` and `=|` to a weight of -1.0. Different syntax can be used, however the mapping must be specified by correctly configuring the `RelationTranslator` class and passing it to the causal network. Unexpected relations will be mapped to a weight of zero, indicating no causal relationship. Refer to the documentation for more information.\n",
    "\n",
    "## Computing the NPA score\n",
    "\n",
    "Let's remove the extra edge and import our test datasets."
   ]
  },
  {
   "cell_type": "code",
   "execution_count": 6,
   "metadata": {},
   "outputs": [],
   "source": [
    "osmotic_stress_network.remove_edge(src, trg)\n",
    "\n",
    "import pandas as pd\n",
    "\n",
    "datasets = dict()\n",
    "idx = 1\n",
    "for dataset_path in px.resources.get_osmotic_stress_dataset_paths():\n",
    "    data_name = \"test_%d\" % idx\n",
    "    datasets[data_name] = pd.read_table(dataset_path)\n",
    "    idx += 1"
   ]
  },
  {
   "cell_type": "markdown",
   "metadata": {
    "ExecuteTime": {
     "end_time": "2023-09-16T14:36:32.941001Z",
     "start_time": "2023-09-16T14:36:32.907189800Z"
    }
   },
   "source": [
    "The implemention expects datasets to be passed as a dictionary of pandas DataFrames. Each DataFrame should contain at least the columns `nodeID` and `logFC`, however `t` or `stderr` are also required for computing statistics. We will now pass our dataset map to the network and begin computation."
   ]
  },
  {
   "cell_type": "code",
   "execution_count": 7,
   "metadata": {
    "ExecuteTime": {
     "end_time": "2023-09-16T14:36:33.585461200Z",
     "start_time": "2023-09-16T14:36:33.567800200Z"
    }
   },
   "outputs": [
    {
     "name": "stdout",
     "output_type": "stream",
     "text": [
      "2023-11-05 21:15:53,385 INFO -- PREPROCESSING NETWORK\n",
      "2023-11-05 21:15:53,394 INFO -- core edges: 40\n",
      "2023-11-05 21:15:53,395 INFO -- boundary edges: 396\n",
      "2023-11-05 21:15:53,395 INFO -- core nodes: 31\n",
      "2023-11-05 21:15:53,396 INFO -- outer boundary nodes: 100\n",
      "2023-11-05 21:15:53,397 INFO -- core nodes with boundary edges (inner boundary): 10\n",
      "2023-11-05 21:15:53,996 INFO -- COMPUTING NPA FOR DATASET 'test_1'\n",
      "2023-11-05 21:15:54,000 INFO -- boundary nodes matched with dataset: 100\n",
      "2023-11-05 21:15:54,001 INFO -- boundary edges remaining: 385\n",
      "2023-11-05 21:15:54,002 INFO -- core nodes with boundary edges remaining: 7\n",
      "2023-11-05 21:15:55,414 INFO -- COMPUTING NPA FOR DATASET 'test_2'\n",
      "2023-11-05 21:15:55,417 INFO -- boundary nodes matched with dataset: 100\n",
      "2023-11-05 21:15:55,418 INFO -- boundary edges remaining: 385\n",
      "2023-11-05 21:15:55,419 INFO -- core nodes with boundary edges remaining: 7\n",
      "2023-11-05 21:15:56,839 INFO -- COMPUTING NPA FOR DATASET 'test_3'\n",
      "2023-11-05 21:15:56,843 INFO -- boundary nodes matched with dataset: 100\n",
      "2023-11-05 21:15:56,844 INFO -- boundary edges remaining: 385\n",
      "2023-11-05 21:15:56,844 INFO -- core nodes with boundary edges remaining: 7\n"
     ]
    }
   ],
   "source": [
    "test_results = osmotic_stress_network.toponpa(datasets)"
   ]
  },
  {
   "cell_type": "markdown",
   "metadata": {},
   "source": [
    "Results contain four types of information: global, node, distribution, and metadata. Let's first take a look at global and node information."
   ]
  },
  {
   "cell_type": "code",
   "execution_count": 8,
   "metadata": {
    "ExecuteTime": {
     "end_time": "2023-09-16T12:49:11.983597400Z",
     "start_time": "2023-09-16T12:49:11.935721700Z"
    },
    "tags": []
   },
   "outputs": [
    {
     "data": {
      "text/html": [
       "<div>\n",
       "<style scoped>\n",
       "    .dataframe tbody tr th:only-of-type {\n",
       "        vertical-align: middle;\n",
       "    }\n",
       "\n",
       "    .dataframe tbody tr th {\n",
       "        vertical-align: top;\n",
       "    }\n",
       "\n",
       "    .dataframe thead th {\n",
       "        text-align: right;\n",
       "    }\n",
       "</style>\n",
       "<table border=\"1\" class=\"dataframe\">\n",
       "  <thead>\n",
       "    <tr style=\"text-align: right;\">\n",
       "      <th></th>\n",
       "      <th>NPA</th>\n",
       "      <th>variance</th>\n",
       "      <th>ci_lower</th>\n",
       "      <th>ci_upper</th>\n",
       "      <th>k2_value</th>\n",
       "      <th>o_value</th>\n",
       "    </tr>\n",
       "  </thead>\n",
       "  <tbody>\n",
       "    <tr>\n",
       "      <th>test_1</th>\n",
       "      <td>0.005144</td>\n",
       "      <td>0.000568</td>\n",
       "      <td>-0.041569</td>\n",
       "      <td>0.051856</td>\n",
       "      <td>0.002</td>\n",
       "      <td>0.112</td>\n",
       "    </tr>\n",
       "    <tr>\n",
       "      <th>test_2</th>\n",
       "      <td>0.117399</td>\n",
       "      <td>0.016193</td>\n",
       "      <td>-0.132009</td>\n",
       "      <td>0.366806</td>\n",
       "      <td>0.002</td>\n",
       "      <td>0.000</td>\n",
       "    </tr>\n",
       "    <tr>\n",
       "      <th>test_3</th>\n",
       "      <td>1.750560</td>\n",
       "      <td>8.072700</td>\n",
       "      <td>-3.818187</td>\n",
       "      <td>7.319307</td>\n",
       "      <td>0.006</td>\n",
       "      <td>0.000</td>\n",
       "    </tr>\n",
       "  </tbody>\n",
       "</table>\n",
       "</div>"
      ],
      "text/plain": [
       "             NPA  variance  ci_lower  ci_upper  k2_value  o_value\n",
       "test_1  0.005144  0.000568 -0.041569  0.051856     0.002    0.112\n",
       "test_2  0.117399  0.016193 -0.132009  0.366806     0.002    0.000\n",
       "test_3  1.750560  8.072700 -3.818187  7.319307     0.006    0.000"
      ]
     },
     "metadata": {},
     "output_type": "display_data"
    },
    {
     "name": "stdout",
     "output_type": "stream",
     "text": [
      "['contribution', 'coefficient', 'variance', 'ci_lower', 'ci_upper', 'p_value']\n"
     ]
    },
    {
     "data": {
      "text/html": [
       "<div>\n",
       "<style scoped>\n",
       "    .dataframe tbody tr th:only-of-type {\n",
       "        vertical-align: middle;\n",
       "    }\n",
       "\n",
       "    .dataframe tbody tr th {\n",
       "        vertical-align: top;\n",
       "    }\n",
       "\n",
       "    .dataframe thead th {\n",
       "        text-align: right;\n",
       "    }\n",
       "</style>\n",
       "<table border=\"1\" class=\"dataframe\">\n",
       "  <thead>\n",
       "    <tr style=\"text-align: right;\">\n",
       "      <th>attr</th>\n",
       "      <th>contribution</th>\n",
       "      <th>coefficient</th>\n",
       "      <th>variance</th>\n",
       "      <th>ci_lower</th>\n",
       "      <th>ci_upper</th>\n",
       "      <th>p_value</th>\n",
       "    </tr>\n",
       "  </thead>\n",
       "  <tbody>\n",
       "    <tr>\n",
       "      <th>tscript(p(HGNC:HIF1A))</th>\n",
       "      <td>0.026643</td>\n",
       "      <td>-0.682930</td>\n",
       "      <td>0.273868</td>\n",
       "      <td>-1.708626</td>\n",
       "      <td>0.342767</td>\n",
       "      <td>0.095949</td>\n",
       "    </tr>\n",
       "    <tr>\n",
       "      <th>p(HGNC:AQP5)</th>\n",
       "      <td>0.038163</td>\n",
       "      <td>-0.667370</td>\n",
       "      <td>0.255508</td>\n",
       "      <td>-1.658088</td>\n",
       "      <td>0.323348</td>\n",
       "      <td>0.093371</td>\n",
       "    </tr>\n",
       "    <tr>\n",
       "      <th>kin(p(HGNC:EGFR))</th>\n",
       "      <td>0.016734</td>\n",
       "      <td>-0.541236</td>\n",
       "      <td>0.213143</td>\n",
       "      <td>-1.446100</td>\n",
       "      <td>0.363628</td>\n",
       "      <td>0.120532</td>\n",
       "    </tr>\n",
       "    <tr>\n",
       "      <th>cat(p(HGNC:PTGS2))</th>\n",
       "      <td>0.038208</td>\n",
       "      <td>-0.871322</td>\n",
       "      <td>0.503980</td>\n",
       "      <td>-2.262731</td>\n",
       "      <td>0.520087</td>\n",
       "      <td>0.109844</td>\n",
       "    </tr>\n",
       "    <tr>\n",
       "      <th>p(HGNC:EGFR,pmod(P,Y))</th>\n",
       "      <td>0.016734</td>\n",
       "      <td>-0.541236</td>\n",
       "      <td>0.213143</td>\n",
       "      <td>-1.446100</td>\n",
       "      <td>0.363628</td>\n",
       "      <td>0.120532</td>\n",
       "    </tr>\n",
       "    <tr>\n",
       "      <th>a(SCHEM:Dinoprostone)</th>\n",
       "      <td>0.048062</td>\n",
       "      <td>-0.748938</td>\n",
       "      <td>0.268949</td>\n",
       "      <td>-1.765380</td>\n",
       "      <td>0.267504</td>\n",
       "      <td>0.074349</td>\n",
       "    </tr>\n",
       "    <tr>\n",
       "      <th>p(HGNC:HSPA1A)</th>\n",
       "      <td>0.013488</td>\n",
       "      <td>-0.687185</td>\n",
       "      <td>0.441027</td>\n",
       "      <td>-1.988795</td>\n",
       "      <td>0.614424</td>\n",
       "      <td>0.150390</td>\n",
       "    </tr>\n",
       "    <tr>\n",
       "      <th>tscript(complex(SCOMP:\"AP-1 Complex\"))</th>\n",
       "      <td>0.011957</td>\n",
       "      <td>-0.633816</td>\n",
       "      <td>0.627025</td>\n",
       "      <td>-2.185813</td>\n",
       "      <td>0.918180</td>\n",
       "      <td>0.211732</td>\n",
       "    </tr>\n",
       "    <tr>\n",
       "      <th>kin(p(SFAM:\"PRKA Family\"))</th>\n",
       "      <td>0.057843</td>\n",
       "      <td>-0.711537</td>\n",
       "      <td>0.270254</td>\n",
       "      <td>-1.730444</td>\n",
       "      <td>0.307369</td>\n",
       "      <td>0.085545</td>\n",
       "    </tr>\n",
       "    <tr>\n",
       "      <th>p(HGNC:EGF)</th>\n",
       "      <td>0.028964</td>\n",
       "      <td>-0.503502</td>\n",
       "      <td>0.200832</td>\n",
       "      <td>-1.381845</td>\n",
       "      <td>0.374841</td>\n",
       "      <td>0.130606</td>\n",
       "    </tr>\n",
       "    <tr>\n",
       "      <th>p(HGNC:HSPA1B)</th>\n",
       "      <td>0.013488</td>\n",
       "      <td>-0.687185</td>\n",
       "      <td>0.441027</td>\n",
       "      <td>-1.988795</td>\n",
       "      <td>0.614424</td>\n",
       "      <td>0.150390</td>\n",
       "    </tr>\n",
       "    <tr>\n",
       "      <th>p(HGNC:SLC6A12)</th>\n",
       "      <td>0.031004</td>\n",
       "      <td>-0.758725</td>\n",
       "      <td>0.892567</td>\n",
       "      <td>-2.610416</td>\n",
       "      <td>1.092967</td>\n",
       "      <td>0.210962</td>\n",
       "    </tr>\n",
       "    <tr>\n",
       "      <th>kin(p(SFAM:\"MAPK Erk1/2 Family\"))</th>\n",
       "      <td>0.060674</td>\n",
       "      <td>-0.651810</td>\n",
       "      <td>0.238653</td>\n",
       "      <td>-1.609295</td>\n",
       "      <td>0.305674</td>\n",
       "      <td>0.091061</td>\n",
       "    </tr>\n",
       "    <tr>\n",
       "      <th>p(HGNC:NRG1)</th>\n",
       "      <td>0.032483</td>\n",
       "      <td>-0.795125</td>\n",
       "      <td>0.396958</td>\n",
       "      <td>-2.029992</td>\n",
       "      <td>0.439742</td>\n",
       "      <td>0.103472</td>\n",
       "    </tr>\n",
       "    <tr>\n",
       "      <th>kin(p(HGNC:ATM))</th>\n",
       "      <td>0.049270</td>\n",
       "      <td>-0.656697</td>\n",
       "      <td>0.455038</td>\n",
       "      <td>-1.978821</td>\n",
       "      <td>0.665426</td>\n",
       "      <td>0.165149</td>\n",
       "    </tr>\n",
       "    <tr>\n",
       "      <th>p(HGNC:AQP3)</th>\n",
       "      <td>0.012135</td>\n",
       "      <td>-0.651810</td>\n",
       "      <td>0.238653</td>\n",
       "      <td>-1.609295</td>\n",
       "      <td>0.305674</td>\n",
       "      <td>0.091061</td>\n",
       "    </tr>\n",
       "    <tr>\n",
       "      <th>kin(p(HGNC:MAPK14))</th>\n",
       "      <td>0.027421</td>\n",
       "      <td>-0.692837</td>\n",
       "      <td>0.354713</td>\n",
       "      <td>-1.860148</td>\n",
       "      <td>0.474474</td>\n",
       "      <td>0.122353</td>\n",
       "    </tr>\n",
       "    <tr>\n",
       "      <th>a(SCHEM:Calcium)</th>\n",
       "      <td>0.012721</td>\n",
       "      <td>0.667370</td>\n",
       "      <td>0.255508</td>\n",
       "      <td>-0.323348</td>\n",
       "      <td>1.658088</td>\n",
       "      <td>0.093371</td>\n",
       "    </tr>\n",
       "    <tr>\n",
       "      <th>p(HGNC:SLC5A3)</th>\n",
       "      <td>0.013488</td>\n",
       "      <td>-0.687185</td>\n",
       "      <td>0.441027</td>\n",
       "      <td>-1.988795</td>\n",
       "      <td>0.614424</td>\n",
       "      <td>0.150390</td>\n",
       "    </tr>\n",
       "    <tr>\n",
       "      <th>tscript(p(HGNC:NFAT5))</th>\n",
       "      <td>0.134878</td>\n",
       "      <td>-0.687185</td>\n",
       "      <td>0.441027</td>\n",
       "      <td>-1.988795</td>\n",
       "      <td>0.614424</td>\n",
       "      <td>0.150390</td>\n",
       "    </tr>\n",
       "    <tr>\n",
       "      <th>cat(p(HGNC:ERBB3))</th>\n",
       "      <td>0.021159</td>\n",
       "      <td>-0.571884</td>\n",
       "      <td>0.170333</td>\n",
       "      <td>-1.380789</td>\n",
       "      <td>0.237021</td>\n",
       "      <td>0.082924</td>\n",
       "    </tr>\n",
       "    <tr>\n",
       "      <th>a(CHEBI:\"hydrogen peroxide\")</th>\n",
       "      <td>0.057445</td>\n",
       "      <td>-0.578969</td>\n",
       "      <td>0.228553</td>\n",
       "      <td>-1.515975</td>\n",
       "      <td>0.358036</td>\n",
       "      <td>0.112938</td>\n",
       "    </tr>\n",
       "    <tr>\n",
       "      <th>p(HGNC:AQP1)</th>\n",
       "      <td>0.025605</td>\n",
       "      <td>-0.669498</td>\n",
       "      <td>0.319636</td>\n",
       "      <td>-1.777589</td>\n",
       "      <td>0.438594</td>\n",
       "      <td>0.118169</td>\n",
       "    </tr>\n",
       "    <tr>\n",
       "      <th>bp(GOBP:\"hyperosmotic response\")</th>\n",
       "      <td>0.083611</td>\n",
       "      <td>-0.698490</td>\n",
       "      <td>0.293734</td>\n",
       "      <td>-1.760736</td>\n",
       "      <td>0.363757</td>\n",
       "      <td>0.098735</td>\n",
       "    </tr>\n",
       "    <tr>\n",
       "      <th>p(HGNC:AKR1B1)</th>\n",
       "      <td>0.013488</td>\n",
       "      <td>-0.687185</td>\n",
       "      <td>0.441027</td>\n",
       "      <td>-1.988795</td>\n",
       "      <td>0.614424</td>\n",
       "      <td>0.150390</td>\n",
       "    </tr>\n",
       "    <tr>\n",
       "      <th>kin(complex(SCOMP:\"AMP Activated Protein Kinase Complex\"))</th>\n",
       "      <td>0.014461</td>\n",
       "      <td>0.711537</td>\n",
       "      <td>0.270254</td>\n",
       "      <td>-0.307369</td>\n",
       "      <td>1.730444</td>\n",
       "      <td>0.085545</td>\n",
       "    </tr>\n",
       "    <tr>\n",
       "      <th>p(HGNC:CFTR,pmod(P,S,768))</th>\n",
       "      <td>0.028921</td>\n",
       "      <td>0.711537</td>\n",
       "      <td>0.270254</td>\n",
       "      <td>-0.307369</td>\n",
       "      <td>1.730444</td>\n",
       "      <td>0.085545</td>\n",
       "    </tr>\n",
       "    <tr>\n",
       "      <th>cat(p(HGNC:PTGES2))</th>\n",
       "      <td>0.025182</td>\n",
       "      <td>-0.663954</td>\n",
       "      <td>0.230599</td>\n",
       "      <td>-1.605142</td>\n",
       "      <td>0.277235</td>\n",
       "      <td>0.083388</td>\n",
       "    </tr>\n",
       "    <tr>\n",
       "      <th>tport(p(HGNC:CFTR))</th>\n",
       "      <td>0.028921</td>\n",
       "      <td>-0.711537</td>\n",
       "      <td>0.270254</td>\n",
       "      <td>-1.730444</td>\n",
       "      <td>0.307369</td>\n",
       "      <td>0.085545</td>\n",
       "    </tr>\n",
       "    <tr>\n",
       "      <th>cat(p(HGNC:PARP1))</th>\n",
       "      <td>0.007847</td>\n",
       "      <td>0.482390</td>\n",
       "      <td>0.382737</td>\n",
       "      <td>-0.730157</td>\n",
       "      <td>1.694937</td>\n",
       "      <td>0.217773</td>\n",
       "    </tr>\n",
       "    <tr>\n",
       "      <th>p(HGNC:PLCG1,pmod(P,Y))</th>\n",
       "      <td>0.009001</td>\n",
       "      <td>-0.352568</td>\n",
       "      <td>0.182584</td>\n",
       "      <td>-1.190057</td>\n",
       "      <td>0.484922</td>\n",
       "      <td>0.204655</td>\n",
       "    </tr>\n",
       "  </tbody>\n",
       "</table>\n",
       "</div>"
      ],
      "text/plain": [
       "attr                                                contribution  coefficient  \\\n",
       "tscript(p(HGNC:HIF1A))                                  0.026643    -0.682930   \n",
       "p(HGNC:AQP5)                                            0.038163    -0.667370   \n",
       "kin(p(HGNC:EGFR))                                       0.016734    -0.541236   \n",
       "cat(p(HGNC:PTGS2))                                      0.038208    -0.871322   \n",
       "p(HGNC:EGFR,pmod(P,Y))                                  0.016734    -0.541236   \n",
       "a(SCHEM:Dinoprostone)                                   0.048062    -0.748938   \n",
       "p(HGNC:HSPA1A)                                          0.013488    -0.687185   \n",
       "tscript(complex(SCOMP:\"AP-1 Complex\"))                  0.011957    -0.633816   \n",
       "kin(p(SFAM:\"PRKA Family\"))                              0.057843    -0.711537   \n",
       "p(HGNC:EGF)                                             0.028964    -0.503502   \n",
       "p(HGNC:HSPA1B)                                          0.013488    -0.687185   \n",
       "p(HGNC:SLC6A12)                                         0.031004    -0.758725   \n",
       "kin(p(SFAM:\"MAPK Erk1/2 Family\"))                       0.060674    -0.651810   \n",
       "p(HGNC:NRG1)                                            0.032483    -0.795125   \n",
       "kin(p(HGNC:ATM))                                        0.049270    -0.656697   \n",
       "p(HGNC:AQP3)                                            0.012135    -0.651810   \n",
       "kin(p(HGNC:MAPK14))                                     0.027421    -0.692837   \n",
       "a(SCHEM:Calcium)                                        0.012721     0.667370   \n",
       "p(HGNC:SLC5A3)                                          0.013488    -0.687185   \n",
       "tscript(p(HGNC:NFAT5))                                  0.134878    -0.687185   \n",
       "cat(p(HGNC:ERBB3))                                      0.021159    -0.571884   \n",
       "a(CHEBI:\"hydrogen peroxide\")                            0.057445    -0.578969   \n",
       "p(HGNC:AQP1)                                            0.025605    -0.669498   \n",
       "bp(GOBP:\"hyperosmotic response\")                        0.083611    -0.698490   \n",
       "p(HGNC:AKR1B1)                                          0.013488    -0.687185   \n",
       "kin(complex(SCOMP:\"AMP Activated Protein Kinase...      0.014461     0.711537   \n",
       "p(HGNC:CFTR,pmod(P,S,768))                              0.028921     0.711537   \n",
       "cat(p(HGNC:PTGES2))                                     0.025182    -0.663954   \n",
       "tport(p(HGNC:CFTR))                                     0.028921    -0.711537   \n",
       "cat(p(HGNC:PARP1))                                      0.007847     0.482390   \n",
       "p(HGNC:PLCG1,pmod(P,Y))                                 0.009001    -0.352568   \n",
       "\n",
       "attr                                                variance  ci_lower  \\\n",
       "tscript(p(HGNC:HIF1A))                              0.273868 -1.708626   \n",
       "p(HGNC:AQP5)                                        0.255508 -1.658088   \n",
       "kin(p(HGNC:EGFR))                                   0.213143 -1.446100   \n",
       "cat(p(HGNC:PTGS2))                                  0.503980 -2.262731   \n",
       "p(HGNC:EGFR,pmod(P,Y))                              0.213143 -1.446100   \n",
       "a(SCHEM:Dinoprostone)                               0.268949 -1.765380   \n",
       "p(HGNC:HSPA1A)                                      0.441027 -1.988795   \n",
       "tscript(complex(SCOMP:\"AP-1 Complex\"))              0.627025 -2.185813   \n",
       "kin(p(SFAM:\"PRKA Family\"))                          0.270254 -1.730444   \n",
       "p(HGNC:EGF)                                         0.200832 -1.381845   \n",
       "p(HGNC:HSPA1B)                                      0.441027 -1.988795   \n",
       "p(HGNC:SLC6A12)                                     0.892567 -2.610416   \n",
       "kin(p(SFAM:\"MAPK Erk1/2 Family\"))                   0.238653 -1.609295   \n",
       "p(HGNC:NRG1)                                        0.396958 -2.029992   \n",
       "kin(p(HGNC:ATM))                                    0.455038 -1.978821   \n",
       "p(HGNC:AQP3)                                        0.238653 -1.609295   \n",
       "kin(p(HGNC:MAPK14))                                 0.354713 -1.860148   \n",
       "a(SCHEM:Calcium)                                    0.255508 -0.323348   \n",
       "p(HGNC:SLC5A3)                                      0.441027 -1.988795   \n",
       "tscript(p(HGNC:NFAT5))                              0.441027 -1.988795   \n",
       "cat(p(HGNC:ERBB3))                                  0.170333 -1.380789   \n",
       "a(CHEBI:\"hydrogen peroxide\")                        0.228553 -1.515975   \n",
       "p(HGNC:AQP1)                                        0.319636 -1.777589   \n",
       "bp(GOBP:\"hyperosmotic response\")                    0.293734 -1.760736   \n",
       "p(HGNC:AKR1B1)                                      0.441027 -1.988795   \n",
       "kin(complex(SCOMP:\"AMP Activated Protein Kinase...  0.270254 -0.307369   \n",
       "p(HGNC:CFTR,pmod(P,S,768))                          0.270254 -0.307369   \n",
       "cat(p(HGNC:PTGES2))                                 0.230599 -1.605142   \n",
       "tport(p(HGNC:CFTR))                                 0.270254 -1.730444   \n",
       "cat(p(HGNC:PARP1))                                  0.382737 -0.730157   \n",
       "p(HGNC:PLCG1,pmod(P,Y))                             0.182584 -1.190057   \n",
       "\n",
       "attr                                                ci_upper   p_value  \n",
       "tscript(p(HGNC:HIF1A))                              0.342767  0.095949  \n",
       "p(HGNC:AQP5)                                        0.323348  0.093371  \n",
       "kin(p(HGNC:EGFR))                                   0.363628  0.120532  \n",
       "cat(p(HGNC:PTGS2))                                  0.520087  0.109844  \n",
       "p(HGNC:EGFR,pmod(P,Y))                              0.363628  0.120532  \n",
       "a(SCHEM:Dinoprostone)                               0.267504  0.074349  \n",
       "p(HGNC:HSPA1A)                                      0.614424  0.150390  \n",
       "tscript(complex(SCOMP:\"AP-1 Complex\"))              0.918180  0.211732  \n",
       "kin(p(SFAM:\"PRKA Family\"))                          0.307369  0.085545  \n",
       "p(HGNC:EGF)                                         0.374841  0.130606  \n",
       "p(HGNC:HSPA1B)                                      0.614424  0.150390  \n",
       "p(HGNC:SLC6A12)                                     1.092967  0.210962  \n",
       "kin(p(SFAM:\"MAPK Erk1/2 Family\"))                   0.305674  0.091061  \n",
       "p(HGNC:NRG1)                                        0.439742  0.103472  \n",
       "kin(p(HGNC:ATM))                                    0.665426  0.165149  \n",
       "p(HGNC:AQP3)                                        0.305674  0.091061  \n",
       "kin(p(HGNC:MAPK14))                                 0.474474  0.122353  \n",
       "a(SCHEM:Calcium)                                    1.658088  0.093371  \n",
       "p(HGNC:SLC5A3)                                      0.614424  0.150390  \n",
       "tscript(p(HGNC:NFAT5))                              0.614424  0.150390  \n",
       "cat(p(HGNC:ERBB3))                                  0.237021  0.082924  \n",
       "a(CHEBI:\"hydrogen peroxide\")                        0.358036  0.112938  \n",
       "p(HGNC:AQP1)                                        0.438594  0.118169  \n",
       "bp(GOBP:\"hyperosmotic response\")                    0.363757  0.098735  \n",
       "p(HGNC:AKR1B1)                                      0.614424  0.150390  \n",
       "kin(complex(SCOMP:\"AMP Activated Protein Kinase...  1.730444  0.085545  \n",
       "p(HGNC:CFTR,pmod(P,S,768))                          1.730444  0.085545  \n",
       "cat(p(HGNC:PTGES2))                                 0.277235  0.083388  \n",
       "tport(p(HGNC:CFTR))                                 0.307369  0.085545  \n",
       "cat(p(HGNC:PARP1))                                  1.694937  0.217773  \n",
       "p(HGNC:PLCG1,pmod(P,Y))                             0.484922  0.204655  "
      ]
     },
     "metadata": {},
     "output_type": "display_data"
    }
   ],
   "source": [
    "display(test_results.global_info())\n",
    "\n",
    "print(test_results.node_attributes())\n",
    "display(test_results.node_info(\"test_3\"))"
   ]
  },
  {
   "cell_type": "markdown",
   "metadata": {},
   "source": [
    "The datasets all have nonsensical variance due to their synthetic nature. Regardless, we can see that the NPA scores vary significantly. For the dataset with the lowest score, the permutation tests produced p-values above `0.05`, indicating that the result is not significant.\n",
    "\n",
    "Node information is accessed by specifying either the name of a dataset or a node attribute. The TopoNPA algorithm assigns six attributes per dataset: contribution, coefficient, variance, lower and upper confidence interval limits, and p-values. The last four are all derived from standard error and are thus unrealistic in this example. Coefficients are counterparts to the `logFC` values we provided for boundary nodes. Contributions are estimates of how important a node is for the total NPA score. Since we have a lot of nodes, we might want to look at only the ones with the highest contribution."
   ]
  },
  {
   "cell_type": "code",
   "execution_count": 9,
   "metadata": {
    "ExecuteTime": {
     "end_time": "2023-09-16T12:49:17.302414300Z",
     "start_time": "2023-09-16T12:49:17.254953200Z"
    }
   },
   "outputs": [
    {
     "name": "stdout",
     "output_type": "stream",
     "text": [
      "Leading nodes for both datasets: {'kin(p(HGNC:ATM))', 'kin(p(SFAM:\"PRKA Family\"))', 'p(HGNC:AQP1)', 'kin(p(HGNC:MAPK14))', 'tscript(p(HGNC:NFAT5))', 'bp(GOBP:\"hyperosmotic response\")', 'kin(p(SFAM:\"MAPK Erk1/2 Family\"))', 'p(HGNC:AQP5)', 'tscript(p(HGNC:HIF1A))', 'p(HGNC:CFTR,pmod(P,S,768))', 'p(HGNC:SLC6A12)', 'tport(p(HGNC:CFTR))', 'a(SCHEM:Dinoprostone)', 'p(HGNC:NRG1)', 'a(CHEBI:\"hydrogen peroxide\")'}\n",
      "Leading nodes for only dataset 2: {'cat(p(HGNC:ERBB3))'}\n",
      "Leading nodes for only dataset 3: {'cat(p(HGNC:PTGS2))', 'cat(p(HGNC:PTGES2))', 'p(HGNC:EGF)'}\n"
     ]
    }
   ],
   "source": [
    "leading_nodes_2 = test_results.get_leading_nodes(\"test_2\")\n",
    "leading_nodes_3 = test_results.get_leading_nodes(\"test_3\")\n",
    "\n",
    "print(\"Leading nodes for both datasets: \" + str(leading_nodes_2.intersection(leading_nodes_3)))\n",
    "print(\"Leading nodes for only dataset 2: \" + str(leading_nodes_2.difference(leading_nodes_3)))\n",
    "print(\"Leading nodes for only dataset 3: \" + str(leading_nodes_3.difference(leading_nodes_2)))"
   ]
  },
  {
   "cell_type": "markdown",
   "metadata": {},
   "source": [
    "Comparing leading nodes between the two datasets with significant results, we can see that there is a high degree of conformity. While this is not guaranteed (especially when using synthetic data), it is likely that the same nodes will show up across different datasets.\n",
    "\n",
    "Next, let's take a look at permutation test distributions."
   ]
  },
  {
   "cell_type": "code",
   "execution_count": 10,
   "metadata": {
    "ExecuteTime": {
     "end_time": "2023-09-16T12:49:39.196088400Z",
     "start_time": "2023-09-16T12:49:39.183227100Z"
    }
   },
   "outputs": [
    {
     "name": "stdout",
     "output_type": "stream",
     "text": [
      "['k2', 'o']\n"
     ]
    }
   ],
   "source": [
    "print(test_results.distributions())"
   ]
  },
  {
   "cell_type": "markdown",
   "metadata": {},
   "source": [
    "By default, two permutation tests are computed. The `O` permutation test shuffles boundary nodes and tests the significance of their ordering. The `K2` permutation test shuffles core edges according to the degree sequence and tests the importance of the core network structure. A `K1` test is also available, which shuffles edges completely at random. The tests can be further adjusted via optional arguments. Refer to the documentation for more information."
   ]
  },
  {
   "cell_type": "code",
   "execution_count": 11,
   "metadata": {},
   "outputs": [
    {
     "data": {
      "text/plain": [
       "<Figure size 640x480 with 0 Axes>"
      ]
     },
     "metadata": {},
     "output_type": "display_data"
    },
    {
     "data": {
      "image/png": "[encoded data removed]",
      "text/plain": [
       "<Figure size 800x1200 with 3 Axes>"
      ]
     },
     "metadata": {},
     "output_type": "display_data"
    },
    {
     "data": {
      "text/plain": [
       "array([<Axes: ylabel='test_1'>, <Axes: ylabel='test_2'>,\n",
       "       <Axes: ylabel='test_3'>], dtype=object)"
      ]
     },
     "execution_count": 11,
     "metadata": {},
     "output_type": "execute_result"
    }
   ],
   "source": [
    "test_results.plot_distribution('o')"
   ]
  },
  {
   "cell_type": "code",
   "execution_count": 12,
   "metadata": {
    "ExecuteTime": {
     "end_time": "2023-09-16T12:49:42.717727Z",
     "start_time": "2023-09-16T12:49:42.425775100Z"
    }
   },
   "outputs": [
    {
     "data": {
      "text/plain": [
       "<Figure size 640x480 with 0 Axes>"
      ]
     },
     "metadata": {},
     "output_type": "display_data"
    },
    {
     "data": {
      "image/png": "[encoded data removed]",
      "text/plain": [
       "<Figure size 800x1200 with 3 Axes>"
      ]
     },
     "metadata": {},
     "output_type": "display_data"
    },
    {
     "data": {
      "text/plain": [
       "array([<Axes: ylabel='test_1'>, <Axes: ylabel='test_2'>,\n",
       "       <Axes: ylabel='test_3'>], dtype=object)"
      ]
     },
     "execution_count": 12,
     "metadata": {},
     "output_type": "execute_result"
    }
   ],
   "source": [
    "test_results.plot_distribution('k2')"
   ]
  },
  {
   "cell_type": "markdown",
   "metadata": {},
   "source": [
    "Finally, we can inspect the metadata. Information about the programming environment, package version, network and dataset information is all added automatically. Additional metadata can be assigned to a CausalNetwork through the metadata attribute, and it will appear here prepended with `network_`.\n",
    "\n",
    "Results can be exported to a JSON file using the `to_json()` method."
   ]
  },
  {
   "cell_type": "code",
   "execution_count": 13,
   "metadata": {},
   "outputs": [
    {
     "data": {
      "text/plain": [
       "{'missing_value_pruning_mode': 'nullify',\n",
       " 'opposing_value_pruning_mode': None,\n",
       " 'opposing_value_minimum_amplitude': 1.0,\n",
       " 'boundary_edge_minimum': 6,\n",
       " 'exact_boundary_outdegree': True,\n",
       " 'alpha': 0.95,\n",
       " 'full_core_permutation': True,\n",
       " 'permutation_iterations': 500,\n",
       " 'permutation_rate': 1.0,\n",
       " 'seed': None,\n",
       " 'datetime_utc': '2023-11-05T20:15:58.155957',\n",
       " 'python_implementation': 'CPython',\n",
       " 'python_version': '3.10.0',\n",
       " 'system_name': 'Windows',\n",
       " 'system_release': '10',\n",
       " 'system_version': '10.0.19045',\n",
       " 'network_core_edges': 40,\n",
       " 'network_boundary_edges': 396,\n",
       " 'network_core_nodes': 31,\n",
       " 'network_outer_boundary_nodes': 100,\n",
       " 'network_inner_boundary_nodes': 10,\n",
       " 'network_title': 'osmotic_stress_core',\n",
       " 'network_collection': 'resources',\n",
       " 'dataset_test_1': {'matched_outer_boundary_nodes': 100,\n",
       "  'matched_boundary_edges': 385,\n",
       "  'matched_inner_boundary_nodes': 7},\n",
       " 'network_dataset_test_1': {'matched_outer_boundary_nodes': 100,\n",
       "  'matched_boundary_edges': 385,\n",
       "  'matched_inner_boundary_nodes': 7},\n",
       " 'dataset_test_2': {'matched_outer_boundary_nodes': 100,\n",
       "  'matched_boundary_edges': 385,\n",
       "  'matched_inner_boundary_nodes': 7},\n",
       " 'network_dataset_test_2': {'matched_outer_boundary_nodes': 100,\n",
       "  'matched_boundary_edges': 385,\n",
       "  'matched_inner_boundary_nodes': 7},\n",
       " 'dataset_test_3': {'matched_outer_boundary_nodes': 100,\n",
       "  'matched_boundary_edges': 385,\n",
       "  'matched_inner_boundary_nodes': 7},\n",
       " 'network_dataset_test_3': {'matched_outer_boundary_nodes': 100,\n",
       "  'matched_boundary_edges': 385,\n",
       "  'matched_inner_boundary_nodes': 7},\n",
       " 'perturbationx_version': '1.0.1',\n",
       " 'numpy_version': '1.26.1',\n",
       " 'networkx_version': '3.2.1',\n",
       " 'pandas_version': '2.1.2',\n",
       " 'scipy_version': '1.11.3',\n",
       " 'matplotlib_version': '3.8.1',\n",
       " 'seaborn_version': '0.13.0',\n",
       " 'py4cytoscape_version': '1.8.0'}"
      ]
     },
     "metadata": {},
     "output_type": "display_data"
    }
   ],
   "source": [
    "display(test_results.metadata())"
   ]
  },
  {
   "cell_type": "markdown",
   "metadata": {},
   "source": [
    "## Network visualization\n",
    "\n",
    "The last feature that the result object offers is Cytoscape integration through the py4cytoscape package. Let's import the package and verify that Cytoscape is running."
   ]
  },
  {
   "cell_type": "code",
   "execution_count": 14,
   "metadata": {
    "ExecuteTime": {
     "end_time": "2023-09-16T13:49:15.986119200Z",
     "start_time": "2023-09-16T13:49:15.949123600Z"
    }
   },
   "outputs": [
    {
     "name": "stdout",
     "output_type": "stream",
     "text": [
      "2023-11-05 21:16:05,373 DEBUG -- Calling cytoscape_version_info()\n",
      "2023-11-05 21:16:05,374 DEBUG -- ǀCalling cyrest_get('version', base_url='http://127.0.0.1:1234/v1')\n",
      "2023-11-05 21:16:05,376 DEBUG -- Attempting to direct connect to Cytoscape on http://127.0.0.1:1234/v1\n",
      "2023-11-05 21:16:05,470 DEBUG -- Detected py4cytoscape running on Cytoscape workstation\n",
      "2023-11-05 21:16:05,472 DEBUG -- ǀHTTP GET(http://127.0.0.1:1234/v1/version)\n",
      "2023-11-05 21:16:05,488 DEBUG -- ǀOK[200], content: {\"apiVersion\":\"v1\",\"cytoscapeVersion\":\"3.10.1\"}\n",
      "2023-11-05 21:16:05,490 DEBUG -- ǀReturning 'cyrest_get': {'apiVersion': 'v1', 'cytoscapeVersion': '3.10.1'}\n",
      "2023-11-05 21:16:05,493 DEBUG -- Returning 'cytoscape_version_info': {'apiVersion': 'v1', 'cytoscapeVersion': '3.10.1', 'automationAPIVersion': '1.8.0', 'py4cytoscapeVersion': '1.8.0'}\n",
      "2023-11-05 21:16:05,495 DEBUG -- --------------------\n"
     ]
    },
    {
     "data": {
      "text/plain": [
       "{'apiVersion': 'v1',\n",
       " 'cytoscapeVersion': '3.10.1',\n",
       " 'automationAPIVersion': '1.8.0',\n",
       " 'py4cytoscapeVersion': '1.8.0'}"
      ]
     },
     "execution_count": 14,
     "metadata": {},
     "output_type": "execute_result"
    }
   ],
   "source": [
    "import py4cytoscape as p4c\n",
    "p4c.cytoscape_version_info()"
   ]
  },
  {
   "cell_type": "markdown",
   "metadata": {},
   "source": [
    "If no errors were returned, we can display our results."
   ]
  },
  {
   "cell_type": "code",
   "execution_count": 15,
   "metadata": {
    "ExecuteTime": {
     "end_time": "2023-09-16T15:02:27.350350100Z",
     "start_time": "2023-09-16T15:02:25.521963800Z"
    }
   },
   "outputs": [
    {
     "name": "stdout",
     "output_type": "stream",
     "text": [
      "Applying default style...\n",
      "Applying preferred layout\n"
     ]
    }
   ],
   "source": [
    "cynet = test_results.display_network()"
   ]
  },
  {
   "cell_type": "markdown",
   "metadata": {},
   "source": [
    "The method returns an NPAResultDisplay instance, which we can use to further adjust the display. For example, we can color the nodes using any node attribute and any dataset. Let's show node contributions for the `test_3` dataset."
   ]
  },
  {
   "cell_type": "code",
   "execution_count": 16,
   "metadata": {},
   "outputs": [],
   "source": [
    "cynet_suid = cynet.color_nodes(\"test_3\", \"contribution\")"
   ]
  },
  {
   "cell_type": "markdown",
   "metadata": {},
   "source": [
    "While coloring nodes is helpful for identifying key parts of the network, it is insufficient when viewing large networks. For this reason, two methods were implemented for visualizing leading nodes The first is `highlight_leading_nodes`. "
   ]
  },
  {
   "cell_type": "code",
   "execution_count": 17,
   "metadata": {},
   "outputs": [],
   "source": [
    "cynet_suid = cynet.highlight_leading_nodes(\"test_3\")"
   ]
  },
  {
   "cell_type": "markdown",
   "metadata": {},
   "source": [
    "All leading nodes have now been highlighted with an emboldened node border. To include related edges and edges we can specify optional arguments. Let's try it on the second method, `extract_leading_nodes`."
   ]
  },
  {
   "cell_type": "code",
   "execution_count": 18,
   "metadata": {},
   "outputs": [],
   "source": [
    "cynet_suid = cynet.extract_leading_nodes(\"test_3\", include_shortest_paths=\"directed\", path_length_tolerance=1)"
   ]
  },
  {
   "cell_type": "markdown",
   "metadata": {},
   "source": [
    "By default, this method performs extraction in place by hiding all unselected nodes and edges. We have included shortest directed paths between each pair of leading nodes, with a path length tolerance of $1$. The length tolerance selects also paths that are up to $1$ edge longer than the shortest path. It is also possible to select undirected shortest paths, however this usually results in a smaller subgraph, as the edges do not need to be directed in the same way.\n",
    "\n",
    "The other way to include related nodes is by selecting neighbors. Let's use out-of-place extraction for that."
   ]
  },
  {
   "cell_type": "code",
   "execution_count": 19,
   "metadata": {},
   "outputs": [],
   "source": [
    "subnet_suid = cynet.extract_leading_nodes(\"test_3\", include_neighbors=1, neighborhood_type=\"union\", inplace=False)"
   ]
  },
  {
   "cell_type": "markdown",
   "metadata": {},
   "source": [
    "As we can see, the entire core network was selected, as every node is at most one edge away from a leading node. If we instead chose a neighborhood type of intersection, the nodes would have to be first neighbors of all leading nodes to be included. It is also possible to combine display of neighborhoods and paths. In this case, the selected nodes and edges are combined.\n",
    "\n",
    "The extracted subnetwork inherits the network style of the original. We can always reset the display to clear coloring, highlights and invisibility."
   ]
  },
  {
   "cell_type": "code",
   "execution_count": 20,
   "metadata": {},
   "outputs": [
    {
     "data": {
      "text/plain": [
       "128"
      ]
     },
     "execution_count": 20,
     "metadata": {},
     "output_type": "execute_result"
    }
   ],
   "source": [
    "cynet.reset_display(reset_color=True, reset_highlight=True, reset_visibility=True)"
   ]
  },
  {
   "cell_type": "markdown",
   "metadata": {},
   "source": [
    "## Advanced usage\n",
    "\n",
    "The package offers some additional options when it comes to network analysis. Once imported, parts of the core network can be randomly wired or rewired. Let's try adding two random edges between a couple of nodes."
   ]
  },
  {
   "cell_type": "code",
   "execution_count": 21,
   "metadata": {},
   "outputs": [
    {
     "name": "stdout",
     "output_type": "stream",
     "text": [
      "2023-11-05 21:16:33,404 INFO -- WIRING EDGES\n"
     ]
    },
    {
     "data": {
      "text/plain": [
       "[('p(HGNC:EGFR,pmod(P,Y))', 'p(HGNC:HSPA1A)', -1, 'core'),\n",
       " ('p(HGNC:EGFR,pmod(P,Y))', 'p(HGNC:HSPA1A)', 1, 'core')]"
      ]
     },
     "metadata": {},
     "output_type": "display_data"
    },
    {
     "data": {
      "text/plain": [
       "[('a(SCHEM:Calcium)', 'tport(p(HGNC:CFTR))', -1, 'core'),\n",
       " ('p(HGNC:EGFR,pmod(P,Y))', 'a(SCHEM:Calcium)', -1, 'core')]"
      ]
     },
     "metadata": {},
     "output_type": "display_data"
    },
    {
     "data": {
      "text/plain": [
       "[('p(HGNC:EGFR,pmod(P,Y))', 'tport(p(HGNC:CFTR))', -1, 'core'),\n",
       " ('p(HGNC:HSPA1A)', 'a(SCHEM:Calcium)', 1, 'core')]"
      ]
     },
     "metadata": {},
     "output_type": "display_data"
    },
    {
     "data": {
      "text/plain": [
       "[('a(SCHEM:Calcium)', 'p(HGNC:EGFR,pmod(P,Y))', 1, 'core'),\n",
       " ('p(HGNC:EGFR,pmod(P,Y))', 'tport(p(HGNC:CFTR))', 1, 'core')]"
      ]
     },
     "metadata": {},
     "output_type": "display_data"
    },
    {
     "data": {
      "text/plain": [
       "[('a(SCHEM:Calcium)', 'tport(p(HGNC:CFTR))', 1, 'core'),\n",
       " ('p(HGNC:HSPA1A)', 'p(HGNC:EGFR,pmod(P,Y))', -1, 'core')]"
      ]
     },
     "metadata": {},
     "output_type": "display_data"
    }
   ],
   "source": [
    "modifications = osmotic_stress_network.wire_edges(\n",
    "    ['tport(p(HGNC:CFTR))', 'p(HGNC:EGFR,pmod(P,Y))', 'a(SCHEM:Calcium)', 'p(HGNC:HSPA1A)'], \n",
    "    number_of_edges=2, iterations=5, edge_relations=[1, -1], datasets=None\n",
    ")\n",
    "for modification in modifications:\n",
    "    display(modification)"
   ]
  },
  {
   "cell_type": "markdown",
   "metadata": {},
   "source": [
    "If we don't pass in any datasets, we will only recieve lists of modifications. These can be applied to the network using the `modify_network` method. Modifications can also be constructed and passed in by hand. If a relation of an edge is set to None, the edge will instead be deleted from the network.\n",
    "\n",
    "If we pass in our test datasets, we will also receive an evaluation of the permutations using the TopoNPA algorithm."
   ]
  },
  {
   "cell_type": "code",
   "execution_count": 22,
   "metadata": {},
   "outputs": [
    {
     "name": "stdout",
     "output_type": "stream",
     "text": [
      "2023-11-05 21:16:34,625 INFO -- WIRING EDGES\n",
      "2023-11-05 21:16:34,642 INFO -- PREPROCESSING NETWORK\n",
      "2023-11-05 21:16:34,685 INFO -- COMPUTING NPA FOR DATASET 'test_1'\n",
      "2023-11-05 21:16:34,691 INFO -- boundary nodes matched with dataset: 100\n",
      "2023-11-05 21:16:34,692 INFO -- boundary edges remaining: 385\n",
      "2023-11-05 21:16:34,693 INFO -- core nodes with boundary edges remaining: 7\n",
      "2023-11-05 21:16:34,720 INFO -- COMPUTING NPA FOR DATASET 'test_2'\n",
      "2023-11-05 21:16:34,725 INFO -- boundary nodes matched with dataset: 100\n",
      "2023-11-05 21:16:34,726 INFO -- boundary edges remaining: 385\n",
      "2023-11-05 21:16:34,727 INFO -- core nodes with boundary edges remaining: 7\n",
      "2023-11-05 21:16:34,743 INFO -- COMPUTING NPA FOR DATASET 'test_3'\n",
      "2023-11-05 21:16:34,747 INFO -- boundary nodes matched with dataset: 100\n",
      "2023-11-05 21:16:34,748 INFO -- boundary edges remaining: 385\n",
      "2023-11-05 21:16:34,749 INFO -- core nodes with boundary edges remaining: 7\n"
     ]
    },
    {
     "data": {
      "text/plain": [
       "[('tport(p(HGNC:CFTR))', 'a(SCHEM:Calcium)', -1, 'core'),\n",
       " ('p(HGNC:EGFR,pmod(P,Y))', 'a(SCHEM:Calcium)', 1, 'core')]"
      ]
     },
     "metadata": {},
     "output_type": "display_data"
    },
    {
     "data": {
      "text/plain": [
       "{'test_1': 0.002935597323214852,\n",
       " 'test_2': 0.07395491316870083,\n",
       " 'test_3': 0.974211131537148}"
      ]
     },
     "metadata": {},
     "output_type": "display_data"
    },
    {
     "data": {
      "text/plain": [
       "[('a(SCHEM:Calcium)', 'tport(p(HGNC:CFTR))', -1, 'core'),\n",
       " ('p(HGNC:EGFR,pmod(P,Y))', 'a(SCHEM:Calcium)', -1, 'core')]"
      ]
     },
     "metadata": {},
     "output_type": "display_data"
    },
    {
     "data": {
      "text/plain": [
       "{'test_1': 0.005267391568917243,\n",
       " 'test_2': 0.11608037044920416,\n",
       " 'test_3': 1.8019464239281209}"
      ]
     },
     "metadata": {},
     "output_type": "display_data"
    },
    {
     "data": {
      "text/plain": [
       "[('p(HGNC:EGFR,pmod(P,Y))', 'p(HGNC:HSPA1A)', 1, 'core'),\n",
       " ('a(SCHEM:Calcium)', 'p(HGNC:EGFR,pmod(P,Y))', -1, 'core')]"
      ]
     },
     "metadata": {},
     "output_type": "display_data"
    },
    {
     "data": {
      "text/plain": [
       "{'test_1': 0.005261593247009843,\n",
       " 'test_2': 0.11592317474799156,\n",
       " 'test_3': 1.8102068444031594}"
      ]
     },
     "metadata": {},
     "output_type": "display_data"
    },
    {
     "data": {
      "text/plain": [
       "[('a(SCHEM:Calcium)', 'p(HGNC:EGFR,pmod(P,Y))', 1, 'core'),\n",
       " ('a(SCHEM:Calcium)', 'p(HGNC:EGFR,pmod(P,Y))', -1, 'core')]"
      ]
     },
     "metadata": {},
     "output_type": "display_data"
    },
    {
     "data": {
      "text/plain": [
       "{'test_1': 0.005153815038587717,\n",
       " 'test_2': 0.11423531161319098,\n",
       " 'test_3': 1.7711877984533957}"
      ]
     },
     "metadata": {},
     "output_type": "display_data"
    },
    {
     "data": {
      "text/plain": [
       "[('p(HGNC:HSPA1A)', 'tport(p(HGNC:CFTR))', -1, 'core'),\n",
       " ('tport(p(HGNC:CFTR))', 'p(HGNC:HSPA1A)', 1, 'core')]"
      ]
     },
     "metadata": {},
     "output_type": "display_data"
    },
    {
     "data": {
      "text/plain": [
       "{'test_1': 0.005266004590349019,\n",
       " 'test_2': 0.12090783645597367,\n",
       " 'test_3': 1.7959738118234712}"
      ]
     },
     "metadata": {},
     "output_type": "display_data"
    }
   ],
   "source": [
    "results = osmotic_stress_network.wire_edges(\n",
    "    ['tport(p(HGNC:CFTR))', 'p(HGNC:EGFR,pmod(P,Y))', 'a(SCHEM:Calcium)', 'p(HGNC:HSPA1A)'], \n",
    "    number_of_edges=2, iterations=5, edge_relations=[1, -1], datasets=datasets\n",
    ")\n",
    "\n",
    "for modification, scores in results:\n",
    "    display(modification)\n",
    "    display(scores)"
   ]
  },
  {
   "cell_type": "markdown",
   "metadata": {},
   "source": [
    "A number of optional arguments are available to adjust evaluation, both in edge wiring and standard computation. We briefly describe them here and explain the logic behind them. An in-depth evaluation was performed as part of the Master's thesis \"Integration of gene expression data with causal networks\", which can be found in the root of the project's repository.\n",
    "\n",
    "### Missing value pruning mode\n",
    "When values aren't passed for boundary nodes, their associated edges must be removed. We have two options when doing this: we can either first remove the edge weights for missing edges and then balance, or we can first balance the weights and then remove the edges. The first option can be selected by passing \"remove\". It indicates that the edge was somehow incorrect and should not have been included. The second option is the default and can be selected by passing \"nullify\". It indicates that the edge should be included, but cannot be processed in the current computation.\n",
    "\n",
    "### Boundary edge minimum\n",
    "Although weights are expected for boundary edges, they are not used directly. Instead, the absolute weights of all boundary edges that share a source core node are first balanced, so that they sum to $1$. This ensures that boundary edges do not overtake the core edges in terms of importance for the NPA score. However, that can still occur if a core node only has a few boundary edges, resulting in large weights. This is why a boundary edge minimum is applied, and the boundary edges of any core node that are fewer in number are removed. Specifically, they are removed at the same time as boundary weights are balanced. If the number of edges falls below the minimum afterwards, during edge nullification, the remaining edges are not removed. The parameter defaults to $6$ and can be set to $0$ to remove this behaviour altogether.\n",
    "\n",
    "### Exact boundary outdegree\n",
    "When we use nullification to remove edges, the absolute weights of boundary edges for a core node will no longer sum to $1$. In this case, we can choose to use the exact boundary outdegrees of core nodes when computing the NPA score, which is the default behavior. Alternatively, we may choose to use binary outdegrees, which are $1$ for any node with at least one boundary outdegree, and $0$ otherwise. The second option was selected as the default behavior in the R NPA package.\n",
    "\n",
    "### Opposing value pruning mode\n",
    "Sometimes, we may encounted data that causally opposes our biological understanding. For example, we may select three regulators **A**, **B**, and **C**, which all promote the expression of **X**, yet we observe a decrease of **X** in our measurements. Should the decrease still be processed by those edges? If we would like to avoid this, we can use an opposing value pruning mode of either \"remove\" or \"nullify\", similar to the removal of edges for missing values. By default, this behaviour is disabled with a value of `None`.\n",
    "\n",
    "### Opposing value minimum amplitude\n",
    "Although many measurements may oppose our causal edges, most of them are likely to be insignificant. In this case, the insignificance of the measurement is likely more important than its causality. Following this logic, only measurements with a large enough absolute value should be considered as causally opposing and removed. This parameter defaults to a value of $1$, and is disregarded when opposing value pruning is not used."
   ]
  },
  {
   "cell_type": "code",
   "execution_count": null,
   "metadata": {},
   "outputs": [],
   "source": []
  }
 ],
 "metadata": {
  "kernelspec": {
   "display_name": "Python 3 (ipykernel)",
   "language": "python",
   "name": "python3"
  },
  "language_info": {
   "codemirror_mode": {
    "name": "ipython",
    "version": 3
   },
   "file_extension": ".py",
   "mimetype": "text/x-python",
   "name": "python",
   "nbconvert_exporter": "python",
   "pygments_lexer": "ipython3",
   "version": "3.10.0"
  }
 },
 "nbformat": 4,
 "nbformat_minor": 4
}
