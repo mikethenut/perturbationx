{
 "cells": [
  {
   "cell_type": "markdown",
   "metadata": {},
   "source": [
    "# PerturbationX\n",
    "PerturbationX is a package for analyzing causal networks in combination with gene expression data. It is based on the [TopoNPA](https://www.ncbi.nlm.nih.gov/pmc/articles/PMC4227138/) algorithm. It was developed as part of a Master's thesis at the University of Ljubljana, Faculty of Computer and Information Science and in collaboration with the National Institute of Biology. This notebook demonstrates the use of PerturbationX for analyzing a small causal network.\n",
    "\n",
    "## Installation\n",
    "The package can be installed from PyPI or directly from GitHub. It requires a Python version of 3.10 or newer. It is based on NetworkX and pandas and requires Cytoscape for visualization. The latter can be downloaded from [here](https://cytoscape.org/download.html).\n",
    "\n",
    "```bash\n",
    "python -m pip install perturbationx # PyPI\n",
    "python -m pip install git+https://github.com/mikethenut/perturbationx # GitHub\n",
    "```\n",
    "\n",
    "## Network import\n",
    "For demonstration purposes, a small example network with accompanying datasets is included in the package. The network core is based on the human Osmotic Stress network from the [Causal Biological Networks database](https://www.causalbionet.com/), available under Network ID osmotic_stress_2.0_hs. All non-causal edges were removed and the largest connected component was then selected. The network boundary and datasets were generated synthetically and do not correspond to any real biological system."
   ]
  },
  {
   "cell_type": "code",
   "execution_count": null,
   "metadata": {
    "is_executing": true
   },
   "outputs": [],
   "source": [
    "import perturbationx as px\n",
    "from perturbationx import CausalNetwork\n",
    "\n"
   ]
  },
  {
   "cell_type": "code",
   "execution_count": 2,
   "metadata": {
    "ExecuteTime": {
     "end_time": "2023-09-16T14:36:32.904188600Z",
     "start_time": "2023-09-16T14:36:32.843360500Z"
    },
    "tags": []
   },
   "outputs": [],
   "source": [
    "my_cbn = CausalNetwork.from_tsv(\"data/NPANetworks/Hs_CFA_Apoptosis_backbone.tsv\", edge_type=\"core\")\n",
    "my_cbn.add_edges_from_tsv(\"data/NPANetworks/Hs_CFA_Apoptosis_downstream.tsv\", edge_type=\"boundary\")"
   ]
  },
  {
   "cell_type": "code",
   "execution_count": 3,
   "metadata": {
    "ExecuteTime": {
     "end_time": "2023-09-16T14:36:32.941001Z",
     "start_time": "2023-09-16T14:36:32.907189800Z"
    }
   },
   "outputs": [],
   "source": [
    "datasets = dict()\n",
    "datasets[\"CS (5m)\"] = pd.read_table(\"./data/COPD1/CS (5m).tsv\")"
   ]
  },
  {
   "cell_type": "code",
   "execution_count": null,
   "metadata": {},
   "outputs": [],
   "source": [
    "datasets[\"CS (2m) + Sham (3m)\"] = pd.read_table(\"./data/COPD1/CS (2m) + Sham (3m).tsv\")\n",
    "datasets[\"CS (2m) + Sham (5m)\"] = pd.read_table(\"./data/COPD1/CS (2m) + Sham (5m).tsv\")\n",
    "datasets[\"CS (4m) + Sham (1m)\"] = pd.read_table(\"./data/COPD1/CS (4m) + Sham (1m).tsv\")\n",
    "datasets[\"CS (4m) + Sham (3m)\"] = pd.read_table(\"./data/COPD1/CS (4m) + Sham (3m).tsv\")\n",
    "datasets[\"CS (7m)\"] = pd.read_table(\"./data/COPD1/CS (7m).tsv\")"
   ]
  },
  {
   "cell_type": "code",
   "execution_count": 4,
   "metadata": {
    "ExecuteTime": {
     "end_time": "2023-09-16T14:36:33.585461200Z",
     "start_time": "2023-09-16T14:36:33.567800200Z"
    }
   },
   "outputs": [],
   "source": [
    "for data_id, dataset in datasets.items():\n",
    "    datasets[data_id] = dataset.rename(columns={\"nodeLabel\": \"nodeID\", \"foldChange\": \"logFC\"})"
   ]
  },
  {
   "cell_type": "code",
   "execution_count": 5,
   "metadata": {
    "ExecuteTime": {
     "end_time": "2023-09-16T14:37:03.349941400Z",
     "start_time": "2023-09-16T14:36:34.261893200Z"
    },
    "tags": []
   },
   "outputs": [
    {
     "name": "stdout",
     "output_type": "stream",
     "text": [
      "2023-09-16 16:36:34,346 INFO -- PREPROCESSING NETWORK\n",
      "2023-09-16 16:36:34,457 INFO -- core edges: 230\n",
      "2023-09-16 16:36:34,458 INFO -- boundary edges: 11114\n",
      "2023-09-16 16:36:34,459 INFO -- core nodes: 133\n",
      "2023-09-16 16:36:34,460 INFO -- outer boundary nodes: 5729\n",
      "2023-09-16 16:36:34,461 INFO -- core nodes with boundary edges (inner boundary): 67\n",
      "2023-09-16 16:36:36,290 INFO -- COMPUTING NPA FOR DATASET 'CS (5m)'\n",
      "2023-09-16 16:36:36,321 INFO -- boundary nodes matched with dataset: 5225\n",
      "2023-09-16 16:36:36,322 INFO -- boundary edges remaining: 10356\n",
      "2023-09-16 16:36:36,323 INFO -- core nodes with boundary edges remaining: 67\n"
     ]
    }
   ],
   "source": [
    "results = my_cbn.toponpa(datasets)"
   ]
  },
  {
   "cell_type": "code",
   "execution_count": 6,
   "metadata": {
    "ExecuteTime": {
     "end_time": "2023-09-16T12:49:11.983597400Z",
     "start_time": "2023-09-16T12:49:11.935721700Z"
    },
    "tags": []
   },
   "outputs": [
    {
     "data": {
      "text/html": [
       "<div>\n",
       "<style scoped>\n",
       "    .dataframe tbody tr th:only-of-type {\n",
       "        vertical-align: middle;\n",
       "    }\n",
       "\n",
       "    .dataframe tbody tr th {\n",
       "        vertical-align: top;\n",
       "    }\n",
       "\n",
       "    .dataframe thead th {\n",
       "        text-align: right;\n",
       "    }\n",
       "</style>\n",
       "<table border=\"1\" class=\"dataframe\">\n",
       "  <thead>\n",
       "    <tr style=\"text-align: right;\">\n",
       "      <th></th>\n",
       "      <th>NPA</th>\n",
       "      <th>variance</th>\n",
       "      <th>ci_lower</th>\n",
       "      <th>ci_upper</th>\n",
       "      <th>k2_value</th>\n",
       "      <th>o_value</th>\n",
       "    </tr>\n",
       "  </thead>\n",
       "  <tbody>\n",
       "    <tr>\n",
       "      <th>CS (5m)</th>\n",
       "      <td>0.113495</td>\n",
       "      <td>0.000019</td>\n",
       "      <td>0.10496</td>\n",
       "      <td>0.12203</td>\n",
       "      <td>0.0</td>\n",
       "      <td>0.0</td>\n",
       "    </tr>\n",
       "  </tbody>\n",
       "</table>\n",
       "</div>"
      ],
      "text/plain": [
       "              NPA  variance  ci_lower  ci_upper  k2_value  o_value\n",
       "CS (5m)  0.113495  0.000019   0.10496   0.12203       0.0      0.0"
      ]
     },
     "metadata": {},
     "output_type": "display_data"
    }
   ],
   "source": [
    "display(results.global_info())"
   ]
  },
  {
   "cell_type": "code",
   "execution_count": 7,
   "metadata": {
    "ExecuteTime": {
     "end_time": "2023-09-16T12:49:17.302414300Z",
     "start_time": "2023-09-16T12:49:17.254953200Z"
    }
   },
   "outputs": [
    {
     "data": {
      "text/html": [
       "<div>\n",
       "<style scoped>\n",
       "    .dataframe tbody tr th:only-of-type {\n",
       "        vertical-align: middle;\n",
       "    }\n",
       "\n",
       "    .dataframe tbody tr th {\n",
       "        vertical-align: top;\n",
       "    }\n",
       "\n",
       "    .dataframe thead th {\n",
       "        text-align: right;\n",
       "    }\n",
       "</style>\n",
       "<table border=\"1\" class=\"dataframe\">\n",
       "  <thead>\n",
       "    <tr style=\"text-align: right;\">\n",
       "      <th>attr</th>\n",
       "      <th>contribution</th>\n",
       "      <th>coefficient</th>\n",
       "      <th>variance</th>\n",
       "      <th>ci_lower</th>\n",
       "      <th>ci_upper</th>\n",
       "      <th>p_value</th>\n",
       "    </tr>\n",
       "  </thead>\n",
       "  <tbody>\n",
       "    <tr>\n",
       "      <th>act(p(MGI:Ptgs2))</th>\n",
       "      <td>0.002432</td>\n",
       "      <td>-0.178167</td>\n",
       "      <td>0.000014</td>\n",
       "      <td>-0.185495</td>\n",
       "      <td>-0.170839</td>\n",
       "      <td>0.000000</td>\n",
       "    </tr>\n",
       "    <tr>\n",
       "      <th>complex(p(MGI:Ripk1),p(MGI:Tnfrsf10b))</th>\n",
       "      <td>0.001288</td>\n",
       "      <td>0.074858</td>\n",
       "      <td>0.000055</td>\n",
       "      <td>0.060350</td>\n",
       "      <td>0.089366</td>\n",
       "      <td>0.000000</td>\n",
       "    </tr>\n",
       "    <tr>\n",
       "      <th>p(MGI:Fasl)</th>\n",
       "      <td>0.008080</td>\n",
       "      <td>0.229628</td>\n",
       "      <td>0.000038</td>\n",
       "      <td>0.217510</td>\n",
       "      <td>0.241746</td>\n",
       "      <td>0.000000</td>\n",
       "    </tr>\n",
       "    <tr>\n",
       "      <th>act(p(MGI:Creb1))</th>\n",
       "      <td>0.000012</td>\n",
       "      <td>-0.004828</td>\n",
       "      <td>0.000022</td>\n",
       "      <td>-0.014086</td>\n",
       "      <td>0.004430</td>\n",
       "      <td>0.153358</td>\n",
       "    </tr>\n",
       "    <tr>\n",
       "      <th>act(p(MGI:Tlr4))</th>\n",
       "      <td>0.000873</td>\n",
       "      <td>0.086215</td>\n",
       "      <td>0.000007</td>\n",
       "      <td>0.080902</td>\n",
       "      <td>0.091527</td>\n",
       "      <td>0.000000</td>\n",
       "    </tr>\n",
       "    <tr>\n",
       "      <th>...</th>\n",
       "      <td>...</td>\n",
       "      <td>...</td>\n",
       "      <td>...</td>\n",
       "      <td>...</td>\n",
       "      <td>...</td>\n",
       "      <td>...</td>\n",
       "    </tr>\n",
       "    <tr>\n",
       "      <th>p(MGI:Bbc3)</th>\n",
       "      <td>0.006605</td>\n",
       "      <td>0.169520</td>\n",
       "      <td>0.000014</td>\n",
       "      <td>0.162155</td>\n",
       "      <td>0.176886</td>\n",
       "      <td>0.000000</td>\n",
       "    </tr>\n",
       "    <tr>\n",
       "      <th>act(p(MGI:Tnf))</th>\n",
       "      <td>0.007320</td>\n",
       "      <td>0.176276</td>\n",
       "      <td>0.000027</td>\n",
       "      <td>0.166091</td>\n",
       "      <td>0.186461</td>\n",
       "      <td>0.000000</td>\n",
       "    </tr>\n",
       "    <tr>\n",
       "      <th>act(p(MGI:Birc5))</th>\n",
       "      <td>0.002142</td>\n",
       "      <td>-0.082673</td>\n",
       "      <td>0.000015</td>\n",
       "      <td>-0.090315</td>\n",
       "      <td>-0.075031</td>\n",
       "      <td>0.000000</td>\n",
       "    </tr>\n",
       "    <tr>\n",
       "      <th>p(MGI:Bcl2a1b)</th>\n",
       "      <td>0.000936</td>\n",
       "      <td>-0.078163</td>\n",
       "      <td>0.000017</td>\n",
       "      <td>-0.086205</td>\n",
       "      <td>-0.070120</td>\n",
       "      <td>0.000000</td>\n",
       "    </tr>\n",
       "    <tr>\n",
       "      <th>p(MGI:Cflar)</th>\n",
       "      <td>0.002330</td>\n",
       "      <td>-0.123311</td>\n",
       "      <td>0.000022</td>\n",
       "      <td>-0.132423</td>\n",
       "      <td>-0.114200</td>\n",
       "      <td>0.000000</td>\n",
       "    </tr>\n",
       "  </tbody>\n",
       "</table>\n",
       "<p>133 rows × 6 columns</p>\n",
       "</div>"
      ],
      "text/plain": [
       "attr                                    contribution  coefficient  variance  \\\n",
       "act(p(MGI:Ptgs2))                           0.002432    -0.178167  0.000014   \n",
       "complex(p(MGI:Ripk1),p(MGI:Tnfrsf10b))      0.001288     0.074858  0.000055   \n",
       "p(MGI:Fasl)                                 0.008080     0.229628  0.000038   \n",
       "act(p(MGI:Creb1))                           0.000012    -0.004828  0.000022   \n",
       "act(p(MGI:Tlr4))                            0.000873     0.086215  0.000007   \n",
       "...                                              ...          ...       ...   \n",
       "p(MGI:Bbc3)                                 0.006605     0.169520  0.000014   \n",
       "act(p(MGI:Tnf))                             0.007320     0.176276  0.000027   \n",
       "act(p(MGI:Birc5))                           0.002142    -0.082673  0.000015   \n",
       "p(MGI:Bcl2a1b)                              0.000936    -0.078163  0.000017   \n",
       "p(MGI:Cflar)                                0.002330    -0.123311  0.000022   \n",
       "\n",
       "attr                                    ci_lower  ci_upper   p_value  \n",
       "act(p(MGI:Ptgs2))                      -0.185495 -0.170839  0.000000  \n",
       "complex(p(MGI:Ripk1),p(MGI:Tnfrsf10b))  0.060350  0.089366  0.000000  \n",
       "p(MGI:Fasl)                             0.217510  0.241746  0.000000  \n",
       "act(p(MGI:Creb1))                      -0.014086  0.004430  0.153358  \n",
       "act(p(MGI:Tlr4))                        0.080902  0.091527  0.000000  \n",
       "...                                          ...       ...       ...  \n",
       "p(MGI:Bbc3)                             0.162155  0.176886  0.000000  \n",
       "act(p(MGI:Tnf))                         0.166091  0.186461  0.000000  \n",
       "act(p(MGI:Birc5))                      -0.090315 -0.075031  0.000000  \n",
       "p(MGI:Bcl2a1b)                         -0.086205 -0.070120  0.000000  \n",
       "p(MGI:Cflar)                           -0.132423 -0.114200  0.000000  \n",
       "\n",
       "[133 rows x 6 columns]"
      ]
     },
     "metadata": {},
     "output_type": "display_data"
    }
   ],
   "source": [
    "display(results.node_info(\"CS (5m)\"))"
   ]
  },
  {
   "cell_type": "code",
   "execution_count": 9,
   "metadata": {
    "ExecuteTime": {
     "end_time": "2023-05-18T08:26:15.590653800Z",
     "start_time": "2023-05-18T08:26:15.561946300Z"
    }
   },
   "outputs": [
    {
     "data": {
      "text/plain": [
       "['contribution', 'coefficient', 'variance', 'ci_lower', 'ci_upper', 'p_value']"
      ]
     },
     "execution_count": 9,
     "metadata": {},
     "output_type": "execute_result"
    }
   ],
   "source": [
    "results.node_attributes()"
   ]
  },
  {
   "cell_type": "code",
   "execution_count": 9,
   "metadata": {
    "ExecuteTime": {
     "end_time": "2023-05-10T18:11:27.053994Z",
     "start_time": "2023-05-10T18:11:27.036444Z"
    }
   },
   "outputs": [
    {
     "data": {
      "text/html": [
       "<div>\n",
       "<style scoped>\n",
       "    .dataframe tbody tr th:only-of-type {\n",
       "        vertical-align: middle;\n",
       "    }\n",
       "\n",
       "    .dataframe tbody tr th {\n",
       "        vertical-align: top;\n",
       "    }\n",
       "\n",
       "    .dataframe thead th {\n",
       "        text-align: right;\n",
       "    }\n",
       "</style>\n",
       "<table border=\"1\" class=\"dataframe\">\n",
       "  <thead>\n",
       "    <tr style=\"text-align: right;\">\n",
       "      <th>data</th>\n",
       "      <th>CS (5m)</th>\n",
       "      <th>CS (7m)</th>\n",
       "    </tr>\n",
       "  </thead>\n",
       "  <tbody>\n",
       "    <tr>\n",
       "      <th>act(p(MGI:Tnfrsf10b))</th>\n",
       "      <td>0.002914</td>\n",
       "      <td>0.002986</td>\n",
       "    </tr>\n",
       "    <tr>\n",
       "      <th>act(p(MGI:Tlr4))</th>\n",
       "      <td>0.000903</td>\n",
       "      <td>0.000535</td>\n",
       "    </tr>\n",
       "    <tr>\n",
       "      <th>p(MGI:Fasl)</th>\n",
       "      <td>0.008193</td>\n",
       "      <td>0.009685</td>\n",
       "    </tr>\n",
       "    <tr>\n",
       "      <th>act(complex(GOCC:\"mitochondrial permeability transition pore complex\"))</th>\n",
       "      <td>0.016611</td>\n",
       "      <td>0.016322</td>\n",
       "    </tr>\n",
       "    <tr>\n",
       "      <th>act(p(SFAM:\"PRKA Family\"))</th>\n",
       "      <td>0.000260</td>\n",
       "      <td>0.000288</td>\n",
       "    </tr>\n",
       "    <tr>\n",
       "      <th>...</th>\n",
       "      <td>...</td>\n",
       "      <td>...</td>\n",
       "    </tr>\n",
       "    <tr>\n",
       "      <th>act(p(MGI:Map3k7))</th>\n",
       "      <td>0.000924</td>\n",
       "      <td>0.000038</td>\n",
       "    </tr>\n",
       "    <tr>\n",
       "      <th>p(MGI:Stat3)</th>\n",
       "      <td>0.000281</td>\n",
       "      <td>0.000285</td>\n",
       "    </tr>\n",
       "    <tr>\n",
       "      <th>p(MGI:Tnfrsf1a)</th>\n",
       "      <td>0.005713</td>\n",
       "      <td>0.005919</td>\n",
       "    </tr>\n",
       "    <tr>\n",
       "      <th>a(SCHEM:\"Phosphatidylinositol-3,4,5-trisphosphate\")</th>\n",
       "      <td>0.000021</td>\n",
       "      <td>0.000008</td>\n",
       "    </tr>\n",
       "    <tr>\n",
       "      <th>act(p(MGI:Eif2ak3))</th>\n",
       "      <td>0.000744</td>\n",
       "      <td>0.000620</td>\n",
       "    </tr>\n",
       "  </tbody>\n",
       "</table>\n",
       "<p>133 rows × 2 columns</p>\n",
       "</div>"
      ],
      "text/plain": [
       "data                                                 CS (5m)   CS (7m)\n",
       "act(p(MGI:Tnfrsf10b))                               0.002914  0.002986\n",
       "act(p(MGI:Tlr4))                                    0.000903  0.000535\n",
       "p(MGI:Fasl)                                         0.008193  0.009685\n",
       "act(complex(GOCC:\"mitochondrial permeability tr...  0.016611  0.016322\n",
       "act(p(SFAM:\"PRKA Family\"))                          0.000260  0.000288\n",
       "...                                                      ...       ...\n",
       "act(p(MGI:Map3k7))                                  0.000924  0.000038\n",
       "p(MGI:Stat3)                                        0.000281  0.000285\n",
       "p(MGI:Tnfrsf1a)                                     0.005713  0.005919\n",
       "a(SCHEM:\"Phosphatidylinositol-3,4,5-trisphospha...  0.000021  0.000008\n",
       "act(p(MGI:Eif2ak3))                                 0.000744  0.000620\n",
       "\n",
       "[133 rows x 2 columns]"
      ]
     },
     "metadata": {},
     "output_type": "display_data"
    }
   ],
   "source": [
    "display(results.node_info(\"contribution\"))"
   ]
  },
  {
   "cell_type": "code",
   "execution_count": 13,
   "metadata": {
    "ExecuteTime": {
     "end_time": "2023-05-18T08:43:23.834126600Z",
     "start_time": "2023-05-18T08:43:23.794203100Z"
    }
   },
   "outputs": [
    {
     "name": "stdout",
     "output_type": "stream",
     "text": [
      "{'act(complex(SCOMP:\"Nfkb Complex\"))': 0.0001804754731128689, 'p(MGI:Fasl)': 0.005295661438978998, 'act(p(SFAM:\"AKT Family\"))': 0.014030256976249258, 'act(p(MGI:Dffa))': 0.0013725281423219004, 'act(p(MGI:Rela))': 0.0024159309765942965, 'act(p(MGI:Bad))': 0.013318028713701822, 'p(MGI:Tlr4)': 0.0024252998948527376, 'act(p(MGI:Ep300))': 0.00043637802135504936, 'p(MGI:Tnfrsf10b)': 0.002280446855350541, 'p(MGI:Bcl2a1b)': 0.0002843352633071266, 'act(p(MGI:Akt2))': 0.00836791765371085, 'act(p(MGI:Fas))': 0.02147137820178909, 'act(p(MGI:Mapk10))': 6.13673352070862e-05, 'act(complex(GOCC:\"mitochondrial permeability transition pore complex\"))': 0.018653931647016276, 'act(p(MGI:Tradd))': 0.026074218713919028, 'p(MGI:Bcl2l1)': 0.002663886873447179, 'a(SCHEM:Calcium)': 0.0008541738699375782, 'act(p(MGI:Pdpk1))': 0.00010700020939351912, 'p(MGI:Cflar)': 0.0011507699751299345, 'act(p(MGI:Mapk1))': 0.00022518654083958776, 'act(p(MGI:Bmx))': 0.0036778775142161557, 'act(p(MGI:Nkx3-1))': 0.10808460569590245, 'act(p(SFAM:\"FOXO Family\"))': 0.006095376490770051, 'act(complex(SCOMP:\"IkappaB Kinase Complex\"))': -2.162744781336717e-05, 'complex(p(MGI:Ripk1),p(MGI:Tnfrsf10b))': 8.501600053459348e-06, 'act(p(MGI:Ripk1))': 1.8196880859847855e-05, 'act(p(MGI:Bcl2a1b))': 0.0016346636206517494, 'act(p(MGI:Birc2))': 0.0021460556221718687, 'act(p(MGI:Trp53))': 0.022036936541894835, 'act(p(MGI:Tlr4))': 0.0009213526495383577, 'act(p(MGI:Il6))': 0.002361648169673345, 'p(MGI:Ddit3)': 0.004173515166587189, 'p(MGI:Dffa)': 6.46882177592893e-05, 'act(p(MGI:Creb1))': 3.0376039323712227e-05, 'deg(p(MGI:Lmnb1))': 0.0036778775142161557, 'p(MGI:Birc2)': 0.0012313520134056128, 'act(p(MGI:Mapk8))': -1.8634975632033836e-05, 'p(MGI:Ripk1)': 1.1043925432264826e-05, 'p(MGI:Parp1)': 0.0037143152534108506, 'act(p(MGI:Map2k7))': -2.0669444375354288e-05, 'act(p(MGI:Casp3))': 0.03328553320241601, 'act(p(MGI:Rac1))': 0.00021575106377297738, 'act(p(MGI:Stat3))': 0.0003240893844495059, 'p(SFAM:\"MAPK JNK Family\")': 0.0002488083184123771, 'act(p(MGI:Nfkbie))': 0.002149806939003074, 'act(p(MGI:Bak1))': 0.06207436134302463, 'act(p(MGI:Fadd))': 0.022886952944015104, 'act(p(MGI:Casp6))': 0.004131379138800878, 'act(p(MGI:Prkce))': 0.00030758477435156113, 'act(p(MGI:Prkca))': 0.002558026756062668, 'act(p(MGI:Fasl))': 0.009842131357925513, 'act(p(MGI:Bcl2l11))': 0.015493460781501364, 'act(p(MGI:Casp4))': 0.001907267791150717, 'deg(p(MGI:Lmna))': 0.005032784034271483, 'p(MGI:Bcl2l11)': 0.0006133555010461265, 'p(MGI:Tnfrsf1a)': 0.004851149477053825, 'act(p(SFAM:\"PRKC Family\"))': 0.0013027909044812818, 'p(MGI:Bbc3)': 0.006400688634184786, 'p(MGI:Xiap)': 0.0012967723377905831, 'act(p(MGI:Kdr))': 0.001777247516507398, 'act(p(MGI:Bbc3))': 0.01998730923770669, 'act(p(MGI:Dffb))': 0.0017222017890720768, 'p(MGI:Casp3)': 0.0001299183493897672, 'act(p(MGI:Xiap))': 0.0058998744094818706, 'p(MGI:Nfkbie)': 0.007400392691330638, 'p(MGI:Tnfrsf1b)': 0.00383136969859142, 'act(p(MGI:Bcl2l1))': 0.018834112492081546, 'p(MGI:Bad)': 0.002917133069369742, 'p(MGI:Bcl2)': 0.0014059375450711003, 'act(p(MGI:Ptgs2))': 0.0003557665971211274, 'act(p(MGI:Ikbke))': 0.0004087465299658507, 'act(p(MGI:Akt3))': 0.006159157490633435, 'act(p(MGI:Ddit3))': 0.005107898885762175, 'act(p(MGI:Prkcz))': 0.0012275992610809733, 'p(MGI:Pmaip1)': 0.006709423422072373, 'p(MGI:Nkx3-1)': 0.010651431691366868, 'act(p(MGI:Atf4))': 0.002866229265315601, 'bp(MESHPP:Apoptosis)': 0.06963135447078334, 'act(p(MGI:Casp9))': 0.005022205507850383, 'act(p(MGI:Ear1))': 0.0013417988645035408, 'act(p(MGI:Traf2))': 0.00016981677418529689, 'act(p(MGI:Cflar))': 0.008337110077170046, 'act(p(MGI:Eif2ak3))': 0.0006846559330363748, 'p(MGI:Bak1)': 0.0067063179164521, 'act(p(SFAM:\"PRKA Family\"))': 0.00020712644065024963, 'act(p(MGI:Casp8))': 0.049321472025222766, 'a(SCHEM:\"Phosphatidylinositol-3,4,5-trisphosphate\")': 8.009843600438385e-05, 'act(p(MGI:Casp2))': 0.003677877514216158, 'p(MGI:Fas)': 0.0073941779505209615, 'act(p(MGI:Pak2))': 0.0036778775142161557, 'act(p(MGI:Bach2))': 0.00032305896757911615, 'p(MGI:Birc5)': 0.00032913401522960395, 'act(p(MGI:Mapk9))': 0.00010735159883996034, 'act(p(MGI:Foxo3))': 0.000965685249757486, 'act(p(MGI:Bid))': 0.15246446784612167, 'p(MGI:Stat3)': 0.0003864157698751762, 'act(p(MGI:Map3k7))': 0.0007491274270985086, 'act(p(MGI:Tnfrsf10b))': 0.0006426755000372038, 'act(p(MGI:Birc5))': 0.0001810244718287182, 'act(p(MGI:Map3k5))': 1.6855740003996277e-06, 'p(MGI:Tnfsf10)': 6.713131220287518e-05, 'bp(MESHPP:\"DNA Fragmentation\")': 0.0027825162111204792, 'act(p(MGI:Tnf))': 0.007004795333886696, 'act(p(MGI:Akt1))': 0.004803477263671086, 'p(SFAM:\"PRKC Family\")': 3.054943459470758e-05, 'act(p(MGI:Acin1))': 0.0036778775142161557, 'act(p(MGI:Gas2))': 0.0036778775142161557, 'act(p(MGI:Mapk3))': 0.0004464373684145701, 'act(p(MGI:Parp1))': 0.000555703991232629, 'p(MGI:Casp8)': 0.0074020068185189315, 'act(p(MGI:Nfkbia))': 0.0018359255857593462, 'act(p(MGI:Tnfsf10))': 0.0004592954121904305, 'deg(p(MGI:Lmnb2))': 0.003677877514216156, 'act(p(MGI:Elk1))': -4.985838516028294e-05, 'act(p(MGI:Pmaip1))': 0.020704816080719314, 'p(MGI:Pten)': 0.00010017675247756677, 'act(p(MGI:Rock1))': 0.0025768381142820098, 'act(p(MGI:Foxo1))': 0.0010808921739984163, 'act(p(MGI:Chuk))': 0.006652214680595572, 'complex(SCOMP:\"Nfkb Complex\")': 0.0030060440831800187, 'act(p(MGI:Tnfrsf1b))': 0.007099175251359063, 'act(p(MGI:Pten))': 0.0003684432673064294, 'act(p(SFAM:\"PIK3C Class IA Family\"))': 0.0004471566918136298, 'act(p(MGI:Casp7))': 0.004429344994873589, 'act(p(MGI:Tnfrsf1a))': 0.015153742760184523, 'p(MGI:Casp6)': 0.002441152906607824, 'act(p(MGI:Sirt1))': 0.0014267993162144243, 'act(p(SFAM:\"MAPK JNK Family\"))': 0.0051821541489837685, 'p(SFAM:\"AKT Family\")': 0.01123481377301847, 'act(p(MGI:Prkcd))': 0.0013358970647049733, 'act(p(MGI:Bcl2))': 0.014162336095300411, 'act(p(MGI:Map3k14))': 2.0672211868960176e-05, 'act(p(MGI:Cxcl12))': -7.867551644745443e-06}\n",
      "{'act(complex(SCOMP:\"Nfkb Complex\"))': 0.002484391142289465, 'p(MGI:Fasl)': 0.00842485478273518, 'act(p(SFAM:\"AKT Family\"))': 0.05589127277508482, 'act(p(MGI:Dffa))': 0.00010783211128168571, 'act(p(MGI:Rela))': 0.00013105183652665912, 'act(p(MGI:Bad))': 0.00738624202340877, 'p(MGI:Tlr4)': 5.541108645849322e-05, 'act(p(MGI:Ep300))': 0.00022108212917057476, 'p(MGI:Tnfrsf10b)': 0.0005034980395176568, 'p(MGI:Bcl2a1b)': 9.082036247479409e-05, 'act(p(MGI:Akt2))': 0.08417075812022239, 'act(p(MGI:Fas))': 0.052551939836842136, 'act(p(MGI:Mapk10))': 0.00027932787362143697, 'act(complex(GOCC:\"mitochondrial permeability transition pore complex\"))': 0.008866176513673269, 'act(p(MGI:Tradd))': 0.008965969908236962, 'p(MGI:Bcl2l1)': 0.0006427691488856242, 'a(SCHEM:Calcium)': 0.00016045677995102172, 'act(p(MGI:Pdpk1))': 0.0046903654579026725, 'p(MGI:Cflar)': 2.6253606988090962e-05, 'act(p(MGI:Mapk1))': 0.0006867704519837969, 'act(p(MGI:Bmx))': 3.33642423102403e-05, 'act(p(MGI:Nkx3-1))': 0.07433134260293653, 'act(p(SFAM:\"FOXO Family\"))': 0.06771358333339478, 'act(complex(SCOMP:\"IkappaB Kinase Complex\"))': 0.017407050172720307, 'complex(p(MGI:Ripk1),p(MGI:Tnfrsf10b))': 0.0003193447836122828, 'act(p(MGI:Ripk1))': 0.005470180458412686, 'act(p(MGI:Bcl2a1b))': 7.314668516031647e-06, 'act(p(MGI:Birc2))': 0.00013145638166248724, 'act(p(MGI:Trp53))': 0.012105848091136056, 'act(p(MGI:Tlr4))': 0.0005989044118060123, 'act(p(MGI:Il6))': 0.0020569354890164907, 'p(MGI:Ddit3)': 0.008433290134348388, 'p(MGI:Dffa)': 0.0004569569852150825, 'act(p(MGI:Creb1))': 0.0003301313741732464, 'deg(p(MGI:Lmnb1))': 3.33642423102403e-05, 'p(MGI:Birc2)': 9.580294836485018e-05, 'act(p(MGI:Mapk8))': 2.0849511854592534e-05, 'p(MGI:Ripk1)': 0.001960348339625417, 'p(MGI:Parp1)': 1.3756765296829283e-06, 'act(p(MGI:Map2k7))': -5.410461771397794e-06, 'act(p(MGI:Casp3))': -5.104223454618275e-05, 'act(p(MGI:Rac1))': 0.0006616987998728291, 'act(p(MGI:Stat3))': 0.0007793923251793382, 'p(SFAM:\"MAPK JNK Family\")': 0.0005746385759225667, 'act(p(MGI:Nfkbie))': 0.000517017524532649, 'act(p(MGI:Bak1))': 0.030886441793641712, 'act(p(MGI:Fadd))': 0.023086974614828094, 'act(p(MGI:Casp6))': 0.00015602775602252276, 'act(p(MGI:Prkce))': 0.0012170558562785638, 'act(p(MGI:Prkca))': 0.003045952869246268, 'act(p(MGI:Fasl))': 0.0222903689062117, 'act(p(MGI:Bcl2l11))': 0.003897848813525505, 'act(p(MGI:Casp4))': 0.0043013778633439765, 'deg(p(MGI:Lmna))': 7.885320396413287e-05, 'p(MGI:Bcl2l11)': 0.005844617054476931, 'p(MGI:Tnfrsf1a)': 0.003920191419402144, 'act(p(SFAM:\"PRKC Family\"))': -3.707794926116472e-07, 'p(MGI:Bbc3)': 0.0030565055071966048, 'p(MGI:Xiap)': 3.780789492982166e-05, 'act(p(MGI:Kdr))': 6.136912997823314e-06, 'act(p(MGI:Bbc3))': 0.009507201015364132, 'act(p(MGI:Dffb))': 4.525999472023947e-07, 'p(MGI:Casp3)': 0.00017476948939083352, 'act(p(MGI:Xiap))': 1.6275892764350276e-05, 'p(MGI:Nfkbie)': 0.0005622366901798948, 'p(MGI:Tnfrsf1b)': 0.0009297663125592451, 'act(p(MGI:Bcl2l1))': 0.006148350878107954, 'p(MGI:Bad)': 0.0016085321358074744, 'p(MGI:Bcl2)': 2.2274313405581246e-05, 'act(p(MGI:Ptgs2))': 4.935669889442466e-05, 'act(p(MGI:Ikbke))': 0.0012205313254359336, 'act(p(MGI:Akt3))': 0.030616226419983142, 'act(p(MGI:Ddit3))': 0.0021342699995359903, 'act(p(MGI:Prkcz))': 0.0003861191019015545, 'p(MGI:Pmaip1)': 0.004058429942652995, 'p(MGI:Nkx3-1)': 0.007129034360544858, 'act(p(MGI:Atf4))': 0.009212779731162324, 'bp(MESHPP:Apoptosis)': 0.0037940043390261593, 'act(p(MGI:Casp9))': 2.4629588626612088e-06, 'act(p(MGI:Ear1))': 0.011561635674014354, 'act(p(MGI:Traf2))': 0.00038327605772932685, 'act(p(MGI:Cflar))': 0.001537167844537859, 'act(p(MGI:Eif2ak3))': 7.109361949571199e-05, 'p(MGI:Bak1)': 0.0034293668209092716, 'act(p(SFAM:\"PRKA Family\"))': 5.892412383561924e-06, 'act(p(MGI:Casp8))': 0.019487317991796337, 'a(SCHEM:\"Phosphatidylinositol-3,4,5-trisphosphate\")': 0.0012510035199433294, 'act(p(MGI:Casp2))': 3.3364242310240335e-05, 'p(MGI:Fas)': 0.014530687435522514, 'act(p(MGI:Pak2))': 3.336424231024011e-05, 'act(p(MGI:Bach2))': 0.0003551456271243958, 'p(MGI:Birc5)': 0.0003096691516853439, 'act(p(MGI:Mapk9))': 0.0011057519457987953, 'act(p(MGI:Foxo3))': 0.022950193288478558, 'act(p(MGI:Bid))': 0.10591505734349775, 'p(MGI:Stat3)': 0.0012728578805814752, 'act(p(MGI:Map3k7))': 0.03330038773569488, 'act(p(MGI:Tnfrsf10b))': 1.1486457000821126e-05, 'act(p(MGI:Birc5))': 0.0023588895794093693, 'act(p(MGI:Map3k5))': 0.007355354759024628, 'p(MGI:Tnfsf10)': 8.940382636698727e-05, 'bp(MESHPP:\"DNA Fragmentation\")': 5.0882150492961746e-05, 'act(p(MGI:Tnf))': 0.0026661579168228465, 'act(p(MGI:Akt1))': 0.017400085818259903, 'p(SFAM:\"PRKC Family\")': 0.0013363174997989616, 'act(p(MGI:Acin1))': 3.3364242310240396e-05, 'act(p(MGI:Gas2))': 3.336424231024033e-05, 'act(p(MGI:Mapk3))': 0.0002749136916352863, 'act(p(MGI:Parp1))': 0.0004225748514218462, 'p(MGI:Casp8)': 0.003038654339806467, 'act(p(MGI:Nfkbia))': 0.007952440094220057, 'act(p(MGI:Tnfsf10))': 0.00018755321630359507, 'deg(p(MGI:Lmnb2))': 3.336424231024047e-05, 'act(p(MGI:Elk1))': 0.00851560958086875, 'act(p(MGI:Pmaip1))': 0.01301180552227725, 'p(MGI:Pten)': 0.0002026890288291914, 'act(p(MGI:Rock1))': 4.1860195336388245e-06, 'act(p(MGI:Foxo1))': 0.019950353060121422, 'act(p(MGI:Chuk))': 0.00029866785996264864, 'complex(SCOMP:\"Nfkb Complex\")': -8.751644441012404e-05, 'act(p(MGI:Tnfrsf1b))': 0.000975917630020982, 'act(p(MGI:Pten))': 2.8963629593190272e-05, 'act(p(SFAM:\"PIK3C Class IA Family\"))': 0.0012778397219156965, 'act(p(MGI:Casp7))': 6.0635659690936993e-05, 'act(p(MGI:Tnfrsf1a))': 0.01211531485128802, 'p(MGI:Casp6)': 0.0004944700966855753, 'act(p(MGI:Sirt1))': 0.0005135087218480198, 'act(p(SFAM:\"MAPK JNK Family\"))': 0.0022448254155247875, 'p(SFAM:\"AKT Family\")': 0.0633563633335754, 'act(p(MGI:Prkcd))': 0.0007262690586704593, 'act(p(MGI:Bcl2))': 0.0015522457190784557, 'act(p(MGI:Map3k14))': 0.0029976447150433195, 'act(p(MGI:Cxcl12))': 0.0012623208020835352}\n",
      "{'act(complex(SCOMP:\"Nfkb Complex\"))': 0.00015159835345728015, 'p(MGI:Fasl)': 0.007900168958504913, 'act(p(SFAM:\"AKT Family\"))': 0.0001467671404415332, 'act(p(MGI:Dffa))': 0.0016635496842830112, 'act(p(MGI:Rela))': 0.0023216605741466292, 'act(p(MGI:Bad))': 0.013357409039030299, 'p(MGI:Tlr4)': 0.0023048504095237727, 'act(p(MGI:Ep300))': -3.972205106435259e-06, 'p(MGI:Tnfrsf10b)': 0.003993273026278487, 'p(MGI:Bcl2a1b)': 0.0006431391558926865, 'act(p(MGI:Akt2))': 0.0011501426502161258, 'act(p(MGI:Fas))': 0.03455105116886818, 'act(p(MGI:Mapk10))': 0.0006931552383533573, 'act(complex(GOCC:\"mitochondrial permeability transition pore complex\"))': 0.017108905915913863, 'act(p(MGI:Tradd))': 0.02705946755986179, 'p(MGI:Bcl2l1)': 0.0034675597769539203, 'a(SCHEM:Calcium)': 0.0006692930512100816, 'act(p(MGI:Pdpk1))': 0.000154651635635355, 'p(MGI:Cflar)': 0.0019571644235294888, 'act(p(MGI:Mapk1))': 0.00033442165610716686, 'act(p(MGI:Bmx))': 0.0044132051151465745, 'act(p(MGI:Nkx3-1))': 0.09373962443218875, 'act(p(SFAM:\"FOXO Family\"))': 1.2746414660253003e-05, 'act(complex(SCOMP:\"IkappaB Kinase Complex\"))': 0.0004728903695279636, 'complex(p(MGI:Ripk1),p(MGI:Tnfrsf10b))': 0.0008573969110438956, 'act(p(MGI:Ripk1))': 0.0004384972647256463, 'act(p(MGI:Bcl2a1b))': 0.002165757240481556, 'act(p(MGI:Birc2))': 0.0027177727522849486, 'act(p(MGI:Trp53))': 0.0292973032185941, 'act(p(MGI:Tlr4))': 0.0006098538179867454, 'act(p(MGI:Il6))': 0.0017662824943837918, 'p(MGI:Ddit3)': 0.0022198833101584377, 'p(MGI:Dffa)': 0.0001003088891281364, 'act(p(MGI:Creb1))': 0.00026504127476547425, 'deg(p(MGI:Lmnb1))': 0.0044132051151465745, 'p(MGI:Birc2)': 0.0020037790406745764, 'act(p(MGI:Mapk8))': 0.0005607842493463338, 'p(MGI:Ripk1)': 0.0005028456609272146, 'p(MGI:Parp1)': 0.003480056385885252, 'act(p(MGI:Map2k7))': 0.0017741697193740071, 'act(p(MGI:Casp3))': 0.04258705353806903, 'act(p(MGI:Rac1))': 0.0007767396171345598, 'act(p(MGI:Stat3))': 0.0008339786626215939, 'p(SFAM:\"MAPK JNK Family\")': 0.001577496303909675, 'act(p(MGI:Nfkbie))': 0.0008658331750273497, 'act(p(MGI:Bak1))': 0.0558073228054431, 'act(p(MGI:Fadd))': 0.03422102126985649, 'act(p(MGI:Casp6))': 0.005207988935137055, 'act(p(MGI:Prkce))': -1.0548678792276192e-05, 'act(p(MGI:Prkca))': 0.0005073287723828162, 'act(p(MGI:Fasl))': 0.015483515556143424, 'act(p(MGI:Bcl2l11))': 0.016166936708550208, 'act(p(MGI:Casp4))': 0.002868977865662008, 'deg(p(MGI:Lmna))': 0.00613040969525754, 'p(MGI:Bcl2l11)': 0.00307903634505742, 'p(MGI:Tnfrsf1a)': 0.005277611118742969, 'act(p(SFAM:\"PRKC Family\"))': 0.0012056853189529033, 'p(MGI:Bbc3)': 0.006748102746189769, 'p(MGI:Xiap)': 0.0021090609218891317, 'act(p(MGI:Kdr))': 0.0007422835429890583, 'act(p(MGI:Bbc3))': 0.018766466190136583, 'act(p(MGI:Dffb))': 0.002004636555051282, 'p(MGI:Casp3)': 0.0003394106475955959, 'act(p(MGI:Xiap))': 0.007555882315985851, 'p(MGI:Nfkbie)': 0.003973129651019387, 'p(MGI:Tnfrsf1b)': 0.003911465787185523, 'act(p(MGI:Bcl2l1))': 0.018803035354330845, 'p(MGI:Bad)': 0.003312581092797233, 'p(MGI:Bcl2)': 0.002438884407691394, 'act(p(MGI:Ptgs2))': 0.0002561775072650074, 'act(p(MGI:Ikbke))': 9.80830772893329e-05, 'act(p(MGI:Akt3))': 0.0001585794743146852, 'act(p(MGI:Ddit3))': 0.005385701735519135, 'act(p(MGI:Prkcz))': 0.00022582966531477954, 'p(MGI:Pmaip1)': 0.006812177586549224, 'p(MGI:Nkx3-1)': 0.010486368029506176, 'act(p(MGI:Atf4))': 0.0009758610745822212, 'bp(MESHPP:Apoptosis)': 0.07795093409288145, 'act(p(MGI:Casp9))': 0.006432809759359805, 'act(p(MGI:Ear1))': 0.00038975585564011566, 'act(p(MGI:Traf2))': 0.0023035837854316764, 'act(p(MGI:Cflar))': 0.01065898196146632, 'act(p(MGI:Eif2ak3))': 0.0011660544020141224, 'p(MGI:Bak1)': 0.006781160805841767, 'act(p(SFAM:\"PRKA Family\"))': 0.0007057161077520435, 'act(p(MGI:Casp8))': 0.05911272039822705, 'a(SCHEM:\"Phosphatidylinositol-3,4,5-trisphosphate\")': 4.26467590710891e-06, 'act(p(MGI:Casp2))': 0.004413205115146575, 'p(MGI:Fas)': 0.011375893754389377, 'act(p(MGI:Pak2))': 0.0044132051151465745, 'act(p(MGI:Bach2))': -8.456961350350039e-05, 'p(MGI:Birc5)': 0.0012895438914740335, 'act(p(MGI:Mapk9))': 0.001080981325407334, 'act(p(MGI:Foxo3))': 0.00011397131210266184, 'act(p(MGI:Bid))': 0.12207201393201142, 'p(MGI:Stat3)': 0.0001309636192547295, 'act(p(MGI:Map3k7))': -2.8168634006968987e-05, 'act(p(MGI:Tnfrsf10b))': 0.0024385081758639343, 'act(p(MGI:Birc5))': 0.0019296882687553872, 'act(p(MGI:Map3k5))': 0.005143142807802704, 'p(MGI:Tnfsf10)': 0.0008395331943219325, 'bp(MESHPP:\"DNA Fragmentation\")': 0.00316340853552855, 'act(p(MGI:Tnf))': 0.006792808235382877, 'act(p(MGI:Akt1))': 0.00023629642186382349, 'p(SFAM:\"PRKC Family\")': 9.581179405172563e-05, 'act(p(MGI:Acin1))': 0.0044132051151465745, 'act(p(MGI:Gas2))': 0.0044132051151465745, 'act(p(MGI:Mapk3))': 0.0004100815922367678, 'act(p(MGI:Parp1))': 0.00045193573937609067, 'p(MGI:Casp8)': 0.009435113458237228, 'act(p(MGI:Nfkbia))': 0.00033959651804612705, 'act(p(MGI:Tnfsf10))': 0.00011731362163913724, 'deg(p(MGI:Lmnb2))': 0.0044132051151465745, 'act(p(MGI:Elk1))': 0.00020179101480002765, 'act(p(MGI:Pmaip1))': 0.01872834580169036, 'p(MGI:Pten)': 0.0004990668731799974, 'act(p(MGI:Rock1))': 0.002811786069578344, 'act(p(MGI:Foxo1))': 0.00011938124008186296, 'act(p(MGI:Chuk))': 0.003857725413845845, 'complex(SCOMP:\"Nfkb Complex\")': 0.003288165085153178, 'act(p(MGI:Tnfrsf1b))': 0.006583546825205434, 'act(p(MGI:Pten))': -1.6260495967680516e-05, 'act(p(SFAM:\"PIK3C Class IA Family\"))': 1.5417576480620566e-05, 'act(p(MGI:Casp7))': 0.005713335653485877, 'act(p(MGI:Tnfrsf1a))': 0.015310783976272155, 'p(MGI:Casp6)': 0.003150387793863589, 'act(p(MGI:Sirt1))': 0.0008357772684763262, 'act(p(SFAM:\"MAPK JNK Family\"))': 0.008934251178811954, 'p(SFAM:\"AKT Family\")': 1.2745224507513658e-05, 'act(p(MGI:Prkcd))': 0.0020405872485450872, 'act(p(MGI:Bcl2))': 0.013385928075646534, 'act(p(MGI:Map3k14))': 0.00044336312953212445, 'act(p(MGI:Cxcl12))': 4.2234414431307884e-05}\n",
      "{'act(complex(SCOMP:\"Nfkb Complex\"))': 1.2044643599555572e-05, 'p(MGI:Fasl)': 0.00835621451343136, 'act(p(SFAM:\"AKT Family\"))': 0.0018436362935219093, 'act(p(MGI:Dffa))': 0.0010992136164523322, 'act(p(MGI:Rela))': 0.0012800402928835484, 'act(p(MGI:Bad))': 0.013281963834540207, 'p(MGI:Tlr4)': 0.0024506569831918173, 'act(p(MGI:Ep300))': 2.905609472487081e-05, 'p(MGI:Tnfrsf10b)': 0.004088016563878904, 'p(MGI:Bcl2a1b)': 0.0004613850747464437, 'act(p(MGI:Akt2))': 0.0002386195276349941, 'act(p(MGI:Fas))': 0.03831015706540956, 'act(p(MGI:Mapk10))': 0.0006756477646561597, 'act(complex(GOCC:\"mitochondrial permeability transition pore complex\"))': 0.017514012868884862, 'act(p(MGI:Tradd))': 0.03082422135808986, 'p(MGI:Bcl2l1)': 0.0031916620133080023, 'a(SCHEM:Calcium)': 0.0009961001622805093, 'act(p(MGI:Pdpk1))': 0.00041508668504026963, 'p(MGI:Cflar)': 0.0016610293793323646, 'act(p(MGI:Mapk1))': 0.00031284731809194574, 'act(p(MGI:Bmx))': 0.0034849218968242275, 'act(p(MGI:Nkx3-1))': 0.10089954415214007, 'act(p(SFAM:\"FOXO Family\"))': 0.00039094391666332574, 'act(complex(SCOMP:\"IkappaB Kinase Complex\"))': 0.0004856892232355864, 'complex(p(MGI:Ripk1),p(MGI:Tnfrsf10b))': 0.0007039364880918752, 'act(p(MGI:Ripk1))': 0.0004358811054184194, 'act(p(MGI:Bcl2a1b))': 0.0017901002339580391, 'act(p(MGI:Birc2))': 0.0023572366389619736, 'act(p(MGI:Trp53))': 0.028709577335906088, 'act(p(MGI:Tlr4))': 0.0010017558403289048, 'act(p(MGI:Il6))': 0.0026179128941048414, 'p(MGI:Ddit3)': 0.002968920203399928, 'p(MGI:Dffa)': 0.00016407632043291342, 'act(p(MGI:Creb1))': 5.921523745668878e-05, 'deg(p(MGI:Lmnb1))': 0.0034849218968242275, 'p(MGI:Birc2)': 0.0017302776336718822, 'act(p(MGI:Mapk8))': 0.0003402074072759958, 'p(MGI:Ripk1)': 0.00045243185141127486, 'p(MGI:Parp1)': 0.0025070599940836724, 'act(p(MGI:Map2k7))': 0.0005581071907507172, 'act(p(MGI:Casp3))': 0.031112348663310776, 'act(p(MGI:Rac1))': 0.000616682402567178, 'act(p(MGI:Stat3))': 0.0002677483763994553, 'p(SFAM:\"MAPK JNK Family\")': 0.0012894887626319963, 'act(p(MGI:Nfkbie))': 0.001452555146398706, 'act(p(MGI:Bak1))': 0.05782487395870548, 'act(p(MGI:Fadd))': 0.03734305473634355, 'act(p(MGI:Casp6))': 0.004191474256250355, 'act(p(MGI:Prkce))': 1.756408488514779e-05, 'act(p(MGI:Prkca))': 0.000984163550805195, 'act(p(MGI:Fasl))': 0.016935316637558435, 'act(p(MGI:Bcl2l11))': 0.015929992313378362, 'act(p(MGI:Casp4))': 0.001861514099587908, 'deg(p(MGI:Lmna))': 0.004869382387302702, 'p(MGI:Bcl2l11)': 0.002154379064547428, 'p(MGI:Tnfrsf1a)': 0.00653111503433999, 'act(p(SFAM:\"PRKC Family\"))': 0.0014614222524995818, 'p(MGI:Bbc3)': 0.006641127298291871, 'p(MGI:Xiap)': 0.0017129250458704948, 'act(p(MGI:Kdr))': 0.00031653632801643174, 'act(p(MGI:Bbc3))': 0.019081357277490475, 'act(p(MGI:Dffb))': 0.001528293126132081, 'p(MGI:Casp3)': 9.080405720880011e-05, 'act(p(MGI:Xiap))': 0.005769405855102844, 'p(MGI:Nfkbie)': 0.005909762379075954, 'p(MGI:Tnfrsf1b)': 0.003916969495142458, 'act(p(MGI:Bcl2l1))': 0.018081351866437355, 'p(MGI:Bad)': 0.003265621337260416, 'p(MGI:Bcl2)': 0.001921279594136529, 'act(p(MGI:Ptgs2))': 0.00023639432422758333, 'act(p(MGI:Ikbke))': 0.0002893070555947339, 'act(p(MGI:Akt3))': 0.0012442140478888869, 'act(p(MGI:Ddit3))': 0.005154354954132758, 'act(p(MGI:Prkcz))': 0.00011349703887380858, 'p(MGI:Pmaip1)': 0.007025597067889629, 'p(MGI:Nkx3-1)': 0.011480264736929232, 'act(p(MGI:Atf4))': 0.001705311822812836, 'bp(MESHPP:Apoptosis)': 0.06777165950843392, 'act(p(MGI:Casp9))': 0.0047692970116152535, 'act(p(MGI:Ear1))': 0.001293069558943882, 'act(p(MGI:Traf2))': 0.0026881723656731393, 'act(p(MGI:Cflar))': 0.009807820007583632, 'act(p(MGI:Eif2ak3))': 0.0005656761429093379, 'p(MGI:Bak1)': 0.006892869953367675, 'act(p(SFAM:\"PRKA Family\"))': 0.0004347238969928196, 'act(p(MGI:Casp8))': 0.05839821119021211, 'a(SCHEM:\"Phosphatidylinositol-3,4,5-trisphosphate\")': 4.905020601059612e-05, 'act(p(MGI:Casp2))': 0.003484921896824229, 'p(MGI:Fas)': 0.01227088956893729, 'act(p(MGI:Pak2))': 0.0034849218968242275, 'act(p(MGI:Bach2))': 0.00012460556576865742, 'p(MGI:Birc5)': 0.000962312685222154, 'act(p(MGI:Mapk9))': 0.0009529311420939672, 'act(p(MGI:Foxo3))': -5.252111277352898e-06, 'act(p(MGI:Bid))': 0.13552346702005877, 'p(MGI:Stat3)': 0.00046405510905798264, 'act(p(MGI:Map3k7))': -6.630863155846761e-05, 'act(p(MGI:Tnfrsf10b))': 0.0021976221207629654, 'act(p(MGI:Birc5))': 0.0011965286563632913, 'act(p(MGI:Map3k5))': 0.0021626772135651205, 'p(MGI:Tnfsf10)': 0.0006552863419755252, 'bp(MESHPP:\"DNA Fragmentation\")': 0.0026128795023799404, 'act(p(MGI:Tnf))': 0.008189833534996636, 'act(p(MGI:Akt1))': 0.0011086108875565477, 'p(SFAM:\"PRKC Family\")': 9.526554791695106e-05, 'act(p(MGI:Acin1))': 0.003484921896824227, 'act(p(MGI:Gas2))': 0.0034849218968242275, 'act(p(MGI:Mapk3))': 0.00044298371144592586, 'act(p(MGI:Parp1))': 0.0002478742313084336, 'p(MGI:Casp8)': 0.009156359773734959, 'act(p(MGI:Nfkbia))': 0.0006673019789597663, 'act(p(MGI:Tnfsf10))': -2.8319450312599832e-05, 'deg(p(MGI:Lmnb2))': 0.0034849218968242275, 'act(p(MGI:Elk1))': 0.0005290651812830423, 'act(p(MGI:Pmaip1))': 0.0198198286054305, 'p(MGI:Pten)': 0.00038445487460868544, 'act(p(MGI:Rock1))': 0.002568587952807177, 'act(p(MGI:Foxo1))': -5.3384839068815416e-06, 'act(p(MGI:Chuk))': 0.005565419781486385, 'complex(SCOMP:\"Nfkb Complex\")': 0.0013889891666511213, 'act(p(MGI:Tnfrsf1b))': 0.006869722715733478, 'act(p(MGI:Pten))': 3.2326154985184695e-05, 'act(p(SFAM:\"PIK3C Class IA Family\"))': 1.2729491672359552e-05, 'act(p(MGI:Casp7))': 0.003901376947187579, 'act(p(MGI:Tnfrsf1a))': 0.020740571402845413, 'p(MGI:Casp6)': 0.00278521087677761, 'act(p(MGI:Sirt1))': 0.0007146941031555093, 'act(p(SFAM:\"MAPK JNK Family\"))': 0.006592895774146202, 'p(SFAM:\"AKT Family\")': 0.00160692439098394, 'act(p(MGI:Prkcd))': 0.002230016791272056, 'act(p(MGI:Bcl2))': 0.012164673544104382, 'act(p(MGI:Map3k14))': 0.0005340757130348763, 'act(p(MGI:Cxcl12))': 2.5231340253875483e-05}\n",
      "{'act(complex(SCOMP:\"Nfkb Complex\"))': 0.0006357786933732968, 'p(MGI:Fasl)': 0.008193349635840282, 'act(p(SFAM:\"AKT Family\"))': 2.5717647035143547e-05, 'act(p(MGI:Dffa))': 0.0015866348540011842, 'act(p(MGI:Rela))': 0.0013639811571418315, 'act(p(MGI:Bad))': 0.012556367712521905, 'p(MGI:Tlr4)': 0.0025924493755627148, 'act(p(MGI:Ep300))': 0.0001639985876889789, 'p(MGI:Tnfrsf10b)': 0.004472565728846424, 'p(MGI:Bcl2a1b)': 0.0008272624529002677, 'act(p(MGI:Akt2))': 0.0027711714845015264, 'act(p(MGI:Fas))': 0.03584701237033924, 'act(p(MGI:Mapk10))': 0.0012151355237632454, 'act(complex(GOCC:\"mitochondrial permeability transition pore complex\"))': 0.01661106348685077, 'act(p(MGI:Tradd))': 0.026910400743959888, 'p(MGI:Bcl2l1)': 0.0037176386830153002, 'a(SCHEM:Calcium)': 0.000883803012109998, 'act(p(MGI:Pdpk1))': 0.00040824442047675426, 'p(MGI:Cflar)': 0.00222697820346341, 'act(p(MGI:Mapk1))': 0.00030351200353770445, 'act(p(MGI:Bmx))': 0.004326190200650807, 'act(p(MGI:Nkx3-1))': 0.09061967237725638, 'act(p(SFAM:\"FOXO Family\"))': 1.1542012845188513e-05, 'act(complex(SCOMP:\"IkappaB Kinase Complex\"))': 0.00157004141396707, 'complex(p(MGI:Ripk1),p(MGI:Tnfrsf10b))': 0.0011591095535746076, 'act(p(MGI:Ripk1))': 0.0009693273009672824, 'act(p(MGI:Bcl2a1b))': 0.002311671422709528, 'act(p(MGI:Birc2))': 0.0028220997297172474, 'act(p(MGI:Trp53))': 0.030040751357269344, 'act(p(MGI:Tlr4))': 0.0009032888550315313, 'act(p(MGI:Il6))': 0.002193328834715102, 'p(MGI:Ddit3)': 0.002545565224544316, 'p(MGI:Dffa)': 0.00011510041835494958, 'act(p(MGI:Creb1))': 5.193881552417812e-06, 'deg(p(MGI:Lmnb1))': 0.004326190200650807, 'p(MGI:Birc2)': 0.0022639090706761456, 'act(p(MGI:Mapk8))': 0.0007561475484666688, 'p(MGI:Ripk1)': 0.0008682515686132229, 'p(MGI:Parp1)': 0.003242611279670816, 'act(p(MGI:Map2k7))': 0.0026901897640399745, 'act(p(MGI:Casp3))': 0.041110183426511494, 'act(p(MGI:Rac1))': 0.001081303078931753, 'act(p(MGI:Stat3))': 0.0005305402819508944, 'p(SFAM:\"MAPK JNK Family\")': 0.0021346323345415104, 'act(p(MGI:Nfkbie))': 0.0002511617951837852, 'act(p(MGI:Bak1))': 0.05394289802483489, 'act(p(MGI:Fadd))': 0.03331493896506421, 'act(p(MGI:Casp6))': 0.0051225962937033135, 'act(p(MGI:Prkce))': -1.7188642460916283e-05, 'act(p(MGI:Prkca))': 0.0010061802124501308, 'act(p(MGI:Fasl))': 0.01614274548122716, 'act(p(MGI:Bcl2l11))': 0.015701700012977615, 'act(p(MGI:Casp4))': 0.003173617207606386, 'deg(p(MGI:Lmna))': 0.006015787099328169, 'p(MGI:Bcl2l11)': 0.0029985174759249635, 'p(MGI:Tnfrsf1a)': 0.005713423421810002, 'act(p(SFAM:\"PRKC Family\"))': 0.0014519779003058007, 'p(MGI:Bbc3)': 0.0066401006087564605, 'p(MGI:Xiap)': 0.0023187800412680544, 'act(p(MGI:Kdr))': 0.0006462427266797801, 'act(p(MGI:Bbc3))': 0.01826280903011447, 'act(p(MGI:Dffb))': 0.0019490417080399605, 'p(MGI:Casp3)': 0.0002207506299132867, 'act(p(MGI:Xiap))': 0.007433089578599489, 'p(MGI:Nfkbie)': 0.0016925544484269366, 'p(MGI:Tnfrsf1b)': 0.004181677596930209, 'act(p(MGI:Bcl2l1))': 0.018458508238973388, 'p(MGI:Bad)': 0.0032419452869183693, 'p(MGI:Bcl2)': 0.002019931317791992, 'act(p(MGI:Ptgs2))': 0.000290374009400462, 'act(p(MGI:Ikbke))': 6.897383551184053e-05, 'act(p(MGI:Akt3))': 0.0001011906436525833, 'act(p(MGI:Ddit3))': 0.005276390011099192, 'act(p(MGI:Prkcz))': 9.612813424911685e-05, 'p(MGI:Pmaip1)': 0.006731964106800967, 'p(MGI:Nkx3-1)': 0.010766794507612575, 'act(p(MGI:Atf4))': 0.0012876166727122595, 'bp(MESHPP:Apoptosis)': 0.07722123229371379, 'act(p(MGI:Casp9))': 0.006222281649282877, 'act(p(MGI:Ear1))': 0.0009426659578675727, 'act(p(MGI:Traf2))': 0.004097576433674614, 'act(p(MGI:Cflar))': 0.010821502883578896, 'act(p(MGI:Eif2ak3))': 0.0007436565644361545, 'p(MGI:Bak1)': 0.006680342130841885, 'act(p(SFAM:\"PRKA Family\"))': 0.0002596667939852816, 'act(p(MGI:Casp8))': 0.058494076276726294, 'a(SCHEM:\"Phosphatidylinositol-3,4,5-trisphosphate\")': 2.0993544491376605e-05, 'act(p(MGI:Casp2))': 0.00432619020065081, 'p(MGI:Fas)': 0.011834309811502035, 'act(p(MGI:Pak2))': 0.004326190200650807, 'act(p(MGI:Bach2))': -0.00010376452623349327, 'p(MGI:Birc5)': 0.0014695022193512504, 'act(p(MGI:Mapk9))': 0.0014588888963124706, 'act(p(MGI:Foxo3))': 0.00014096781748728848, 'act(p(MGI:Bid))': 0.12108003004155972, 'p(MGI:Stat3)': 0.00028078010146069646, 'act(p(MGI:Map3k7))': 0.0009237036616137285, 'act(p(MGI:Tnfrsf10b))': 0.002914104963258559, 'act(p(MGI:Birc5))': 0.0019371770897721639, 'act(p(MGI:Map3k5))': 0.006939312233923236, 'p(MGI:Tnfsf10)': 0.0009186739452700267, 'bp(MESHPP:\"DNA Fragmentation\")': 0.0031105979946092484, 'act(p(MGI:Tnf))': 0.007395854413310361, 'act(p(MGI:Akt1))': 0.00011025415892300286, 'p(SFAM:\"PRKC Family\")': 8.389410541980061e-05, 'act(p(MGI:Acin1))': 0.0043261902006508065, 'act(p(MGI:Gas2))': 0.0043261902006508065, 'act(p(MGI:Mapk3))': 0.0005452615962053244, 'act(p(MGI:Parp1))': 0.0005653704209746329, 'p(MGI:Casp8)': 0.009428748258178294, 'act(p(MGI:Nfkbia))': 2.7992645544019064e-05, 'act(p(MGI:Tnfsf10))': 0.00019286093410494592, 'deg(p(MGI:Lmnb2))': 0.004326190200650807, 'act(p(MGI:Elk1))': 0.0004843957157443995, 'act(p(MGI:Pmaip1))': 0.018188614734438106, 'p(MGI:Pten)': 0.00045594336172664733, 'act(p(MGI:Rock1))': 0.0026153933326249607, 'act(p(MGI:Foxo1))': 9.357035331776884e-05, 'act(p(MGI:Chuk))': 0.0017866211497026406, 'complex(SCOMP:\"Nfkb Complex\")': 0.0016528384494450296, 'act(p(MGI:Tnfrsf1b))': 0.007371047597919211, 'act(p(MGI:Pten))': -4.034789814963845e-06, 'act(p(SFAM:\"PIK3C Class IA Family\"))': 1.726083583014602e-05, 'act(p(MGI:Casp7))': 0.005288718094227078, 'act(p(MGI:Tnfrsf1a))': 0.017021104995734705, 'p(MGI:Casp6)': 0.0031594906302025356, 'act(p(MGI:Sirt1))': 0.0006519991044582601, 'act(p(SFAM:\"MAPK JNK Family\"))': 0.00966202178690869, 'p(SFAM:\"AKT Family\")': 3.826742188000092e-05, 'act(p(MGI:Prkcd))': 0.00226534025249563, 'act(p(MGI:Bcl2))': 0.011365937211949471, 'act(p(MGI:Map3k14))': 0.0010291701714036437, 'act(p(MGI:Cxcl12))': 5.370797986018438e-05}\n",
      "{'act(complex(SCOMP:\"Nfkb Complex\"))': 0.001538493420014224, 'p(MGI:Fasl)': 0.009685210631616772, 'act(p(SFAM:\"AKT Family\"))': 0.0004054522629433966, 'act(p(MGI:Dffa))': 0.0013454827725914121, 'act(p(MGI:Rela))': 0.0010322204716822494, 'act(p(MGI:Bad))': 0.013065510495982605, 'p(MGI:Tlr4)': 0.0020895066285202277, 'act(p(MGI:Ep300))': 6.707089647419553e-05, 'p(MGI:Tnfrsf10b)': 0.004563866087844756, 'p(MGI:Bcl2a1b)': 0.0010178049563770576, 'act(p(MGI:Akt2))': 0.0006258683595621312, 'act(p(MGI:Fas))': 0.04442548824426105, 'act(p(MGI:Mapk10))': 0.0011935906623293433, 'act(complex(GOCC:\"mitochondrial permeability transition pore complex\"))': 0.016321532675393786, 'act(p(MGI:Tradd))': 0.026798910101603162, 'p(MGI:Bcl2l1)': 0.004088939996904412, 'a(SCHEM:Calcium)': 5.066690597341609e-06, 'act(p(MGI:Pdpk1))': -1.3953383257189453e-06, 'p(MGI:Cflar)': 0.002584765998230432, 'act(p(MGI:Mapk1))': 0.0005139858534649622, 'act(p(MGI:Bmx))': 0.003986326285720786, 'act(p(MGI:Nkx3-1))': 0.0900119697632169, 'act(p(SFAM:\"FOXO Family\"))': 0.0001400759081073277, 'act(complex(SCOMP:\"IkappaB Kinase Complex\"))': 0.0004816291753687266, 'complex(p(MGI:Ripk1),p(MGI:Tnfrsf10b))': 0.0012625277787588405, 'act(p(MGI:Ripk1))': 0.00048561052584877244, 'act(p(MGI:Bcl2a1b))': 0.0023493079677786993, 'act(p(MGI:Birc2))': 0.002840119485396151, 'act(p(MGI:Trp53))': 0.032398999540320494, 'act(p(MGI:Tlr4))': 0.0005346909905188758, 'act(p(MGI:Il6))': 0.0020195809738346193, 'p(MGI:Ddit3)': 0.0031466492170229583, 'p(MGI:Dffa)': 0.0001698961666719442, 'act(p(MGI:Creb1))': 4.266907878063104e-05, 'deg(p(MGI:Lmnb1))': 0.003986326285720786, 'p(MGI:Birc2)': 0.0025895137372134386, 'act(p(MGI:Mapk8))': 0.0005949657052323944, 'p(MGI:Ripk1)': 0.0006514843671753222, 'p(MGI:Parp1)': 0.0028559218574901696, 'act(p(MGI:Map2k7))': 0.003399637718737322, 'act(p(MGI:Casp3))': 0.03774349057021983, 'act(p(MGI:Rac1))': 0.0007294595826864588, 'act(p(MGI:Stat3))': 0.00040462184063256993, 'p(SFAM:\"MAPK JNK Family\")': 0.0020932920243171968, 'act(p(MGI:Nfkbie))': 3.78624512895818e-06, 'act(p(MGI:Bak1))': 0.05399519086196536, 'act(p(MGI:Fadd))': 0.03758096899144774, 'act(p(MGI:Casp6))': 0.004905601673357761, 'act(p(MGI:Prkce))': 0.0005841152029711743, 'act(p(MGI:Prkca))': 2.847752217052661e-05, 'act(p(MGI:Fasl))': 0.019826984161348964, 'act(p(MGI:Bcl2l11))': 0.015072282121675242, 'act(p(MGI:Casp4))': 0.0024033514300356804, 'deg(p(MGI:Lmna))': 0.005609726250142931, 'p(MGI:Bcl2l11)': 0.0023539942262223884, 'p(MGI:Tnfrsf1a)': 0.0059191997704039455, 'act(p(SFAM:\"PRKC Family\"))': 0.0002552182074516859, 'p(MGI:Bbc3)': 0.0069260928664132745, 'p(MGI:Xiap)': 0.002579752694102217, 'act(p(MGI:Kdr))': 0.0005914804027538976, 'act(p(MGI:Bbc3))': 0.01813444211599457, 'act(p(MGI:Dffb))': 0.0017343281808087834, 'p(MGI:Casp3)': 0.0003036738043557002, 'act(p(MGI:Xiap))': 0.007037778319559541, 'p(MGI:Nfkbie)': 0.0003697200662072787, 'p(MGI:Tnfrsf1b)': 0.003925211049774272, 'act(p(MGI:Bcl2l1))': 0.018180467285914572, 'p(MGI:Bad)': 0.0034290930795876366, 'p(MGI:Bcl2)': 0.0023107111589690315, 'act(p(MGI:Ptgs2))': 0.00021954244683988118, 'act(p(MGI:Ikbke))': -1.2314968546487328e-05, 'act(p(MGI:Akt3))': 0.000417979093623339, 'act(p(MGI:Ddit3))': 0.005684858816782719, 'act(p(MGI:Prkcz))': 0.00045918984544792286, 'p(MGI:Pmaip1)': 0.00692077501973817, 'p(MGI:Nkx3-1)': 0.01004498159952595, 'act(p(MGI:Atf4))': 0.0017228177752499354, 'bp(MESHPP:Apoptosis)': 0.07190516793288776, 'act(p(MGI:Casp9))': 0.005789998977544769, 'act(p(MGI:Ear1))': 0.00020840697523713701, 'act(p(MGI:Traf2))': 0.003219184090300548, 'act(p(MGI:Cflar))': 0.011183120434172038, 'act(p(MGI:Eif2ak3))': 0.0006200927989337518, 'p(MGI:Bak1)': 0.006852383101845303, 'act(p(SFAM:\"PRKA Family\"))': 0.0002877698707365491, 'act(p(MGI:Casp8))': 0.060817165542112014, 'a(SCHEM:\"Phosphatidylinositol-3,4,5-trisphosphate\")': 8.080694094279335e-06, 'act(p(MGI:Casp2))': 0.003986326285720788, 'p(MGI:Fas)': 0.014306766433010152, 'act(p(MGI:Pak2))': 0.003986326285720786, 'act(p(MGI:Bach2))': 3.721451619608112e-06, 'p(MGI:Birc5)': 0.0017798182136713585, 'act(p(MGI:Mapk9))': 0.0014817015337431603, 'act(p(MGI:Foxo3))': -1.4266548719878786e-06, 'act(p(MGI:Bid))': 0.12390985201963513, 'p(MGI:Stat3)': 0.00028529776319530497, 'act(p(MGI:Map3k7))': 3.7882181728932366e-05, 'act(p(MGI:Tnfrsf10b))': 0.002986317884785908, 'act(p(MGI:Birc5))': 0.0020523348405772066, 'act(p(MGI:Map3k5))': 0.006158879908663047, 'p(MGI:Tnfsf10)': 0.001216623820274462, 'bp(MESHPP:\"DNA Fragmentation\")': 0.002845237262707836, 'act(p(MGI:Tnf))': 0.00702927598369145, 'act(p(MGI:Akt1))': 0.0003256200769496551, 'p(SFAM:\"PRKC Family\")': 0.0006349951172084646, 'act(p(MGI:Acin1))': 0.003986326285720786, 'act(p(MGI:Gas2))': 0.003986326285720786, 'act(p(MGI:Mapk3))': 0.0006866958187921895, 'act(p(MGI:Parp1))': 0.000247225945046423, 'p(MGI:Casp8)': 0.009917766116734148, 'act(p(MGI:Nfkbia))': -1.4695711508777794e-05, 'act(p(MGI:Tnfsf10))': 0.0004938695055480089, 'deg(p(MGI:Lmnb2))': 0.003986326285720786, 'act(p(MGI:Elk1))': 8.559952021582574e-05, 'act(p(MGI:Pmaip1))': 0.018270245855198184, 'p(MGI:Pten)': 0.000578416966327124, 'act(p(MGI:Rock1))': 0.002192965288813713, 'act(p(MGI:Foxo1))': -9.152821841386562e-06, 'act(p(MGI:Chuk))': 0.0005087584355400517, 'complex(SCOMP:\"Nfkb Complex\")': 0.0008422824045720308, 'act(p(MGI:Tnfrsf1b))': 0.006338298643114956, 'act(p(MGI:Pten))': -2.683869726560599e-05, 'act(p(SFAM:\"PIK3C Class IA Family\"))': 7.13964675277869e-05, 'act(p(MGI:Casp7))': 0.004782378137863777, 'act(p(MGI:Tnfrsf1a))': 0.01706195024624126, 'p(MGI:Casp6)': 0.0032039014336041447, 'act(p(MGI:Sirt1))': 0.0007169994253464767, 'act(p(SFAM:\"MAPK JNK Family\"))': 0.010160690003155278, 'p(SFAM:\"AKT Family\")': 0.00014374086146242877, 'act(p(MGI:Prkcd))': 0.0007948543320491455, 'act(p(MGI:Bcl2))': 0.010725972020956508, 'act(p(MGI:Map3k14))': 0.0005421238395127437, 'act(p(MGI:Cxcl12))': 3.0405476723741472e-06}\n"
     ]
    }
   ],
   "source": [
    "for d in results.datasets():\n",
    "    values = results.node_info(\"contribution\")[d].to_dict()\n",
    "    print(values)"
   ]
  },
  {
   "cell_type": "code",
   "execution_count": 9,
   "metadata": {
    "ExecuteTime": {
     "end_time": "2023-09-16T12:49:39.196088400Z",
     "start_time": "2023-09-16T12:49:39.183227100Z"
    }
   },
   "outputs": [
    {
     "data": {
      "text/plain": [
       "['k2', 'o']"
      ]
     },
     "execution_count": 9,
     "metadata": {},
     "output_type": "execute_result"
    }
   ],
   "source": [
    "results.distributions()"
   ]
  },
  {
   "cell_type": "code",
   "execution_count": 10,
   "metadata": {
    "ExecuteTime": {
     "end_time": "2023-09-16T12:49:42.717727Z",
     "start_time": "2023-09-16T12:49:42.425775100Z"
    }
   },
   "outputs": [
    {
     "data": {
      "text/plain": [
       "<Figure size 640x480 with 0 Axes>"
      ]
     },
     "metadata": {},
     "output_type": "display_data"
    },
    {
     "data": {
      "image/png": "[encoded data removed]",
      "text/plain": [
       "<Figure size 800x400 with 1 Axes>"
      ]
     },
     "metadata": {},
     "output_type": "display_data"
    },
    {
     "data": {
      "text/plain": [
       "[<Axes: ylabel='CS (5m)'>]"
      ]
     },
     "execution_count": 10,
     "metadata": {},
     "output_type": "execute_result"
    }
   ],
   "source": [
    "results.plot_distribution('k2')"
   ]
  },
  {
   "cell_type": "code",
   "execution_count": 8,
   "metadata": {
    "ExecuteTime": {
     "end_time": "2023-09-16T13:49:15.986119200Z",
     "start_time": "2023-09-16T13:49:15.949123600Z"
    }
   },
   "outputs": [
    {
     "name": "stdout",
     "output_type": "stream",
     "text": [
      "2023-09-16 15:49:15,949 DEBUG -- Calling cytoscape_version_info()\n",
      "2023-09-16 15:49:15,951 DEBUG -- ǀCalling cyrest_get('version', base_url='http://127.0.0.1:1234/v1')\n",
      "2023-09-16 15:49:15,953 DEBUG -- ǀHTTP GET(http://127.0.0.1:1234/v1/version)\n",
      "2023-09-16 15:49:15,962 DEBUG -- ǀOK[200], content: {\"apiVersion\":\"v1\",\"cytoscapeVersion\":\"3.10.1\"}\n",
      "2023-09-16 15:49:15,964 DEBUG -- ǀReturning 'cyrest_get': {'apiVersion': 'v1', 'cytoscapeVersion': '3.10.1'}\n",
      "2023-09-16 15:49:15,966 DEBUG -- Returning 'cytoscape_version_info': {'apiVersion': 'v1', 'cytoscapeVersion': '3.10.1', 'automationAPIVersion': '1.6.0', 'py4cytoscapeVersion': '1.6.0'}\n",
      "2023-09-16 15:49:15,967 DEBUG -- --------------------\n"
     ]
    },
    {
     "data": {
      "text/plain": [
       "{'apiVersion': 'v1',\n",
       " 'cytoscapeVersion': '3.10.1',\n",
       " 'automationAPIVersion': '1.6.0',\n",
       " 'py4cytoscapeVersion': '1.6.0'}"
      ]
     },
     "execution_count": 8,
     "metadata": {},
     "output_type": "execute_result"
    }
   ],
   "source": [
    "import py4cytoscape as p4c\n",
    "p4c.cytoscape_version_info()"
   ]
  },
  {
   "cell_type": "code",
   "execution_count": 29,
   "metadata": {
    "ExecuteTime": {
     "end_time": "2023-09-16T15:02:27.350350100Z",
     "start_time": "2023-09-16T15:02:25.521963800Z"
    }
   },
   "outputs": [
    {
     "name": "stdout",
     "output_type": "stream",
     "text": [
      "Applying default style...\n",
      "Applying preferred layout\n"
     ]
    }
   ],
   "source": [
    "display = results.display_network(display_boundary=False)"
   ]
  },
  {
   "cell_type": "code",
   "execution_count": 30,
   "metadata": {
    "ExecuteTime": {
     "end_time": "2023-09-16T15:02:30.439192900Z",
     "start_time": "2023-09-16T15:02:27.829353200Z"
    }
   },
   "outputs": [
    {
     "data": {
      "text/plain": [
       "58492"
      ]
     },
     "execution_count": 30,
     "metadata": {},
     "output_type": "execute_result"
    }
   ],
   "source": [
    "display.highlight_leading_nodes(\"CS (5m)\", cutoff=0.3)"
   ]
  },
  {
   "cell_type": "code",
   "execution_count": 31,
   "metadata": {
    "ExecuteTime": {
     "end_time": "2023-09-16T15:02:33.971981800Z",
     "start_time": "2023-09-16T15:02:30.947982600Z"
    }
   },
   "outputs": [
    {
     "data": {
      "text/plain": [
       "58492"
      ]
     },
     "execution_count": 31,
     "metadata": {},
     "output_type": "execute_result"
    }
   ],
   "source": [
    "display.extract_leading_nodes(\"CS (5m)\", cutoff=0.3, include_neighbors=2, neighborhood_type=\"intersection\")"
   ]
  },
  {
   "cell_type": "code",
   "execution_count": 28,
   "metadata": {
    "ExecuteTime": {
     "end_time": "2023-09-16T15:02:15.160502800Z",
     "start_time": "2023-09-16T15:02:12.262007900Z"
    }
   },
   "outputs": [
    {
     "data": {
      "text/plain": [
       "56460"
      ]
     },
     "execution_count": 28,
     "metadata": {},
     "output_type": "execute_result"
    }
   ],
   "source": [
    "display.extract_leading_nodes(\"CS (5m)\", cutoff=0.3, include_neighbors=1, neighborhood_type=\"union\")"
   ]
  },
  {
   "cell_type": "code",
   "execution_count": 22,
   "metadata": {
    "ExecuteTime": {
     "end_time": "2023-09-16T15:01:07.048988100Z",
     "start_time": "2023-09-16T15:01:04.030421900Z"
    }
   },
   "outputs": [
    {
     "data": {
      "text/plain": [
       "52364"
      ]
     },
     "execution_count": 22,
     "metadata": {},
     "output_type": "execute_result"
    }
   ],
   "source": [
    "import logging\n",
    "logging.disable(logging.DEBUG)\n",
    "display.extract_leading_nodes(\"CS (5m)\", cutoff=0.3, include_shortest_paths=\"directed\")"
   ]
  },
  {
   "cell_type": "code",
   "execution_count": 25,
   "metadata": {
    "ExecuteTime": {
     "end_time": "2023-09-16T15:01:42.493264300Z",
     "start_time": "2023-09-16T15:01:39.512027Z"
    }
   },
   "outputs": [
    {
     "data": {
      "text/plain": [
       "54428"
      ]
     },
     "execution_count": 25,
     "metadata": {},
     "output_type": "execute_result"
    }
   ],
   "source": [
    "import logging\n",
    "logging.disable(logging.DEBUG)\n",
    "display.extract_leading_nodes(\"CS (5m)\", cutoff=0.3, include_shortest_paths=\"all\", path_length_tolerance=1)"
   ]
  },
  {
   "cell_type": "code",
   "execution_count": 9,
   "metadata": {
    "ExecuteTime": {
     "end_time": "2023-09-16T13:15:16.809620500Z",
     "start_time": "2023-09-16T13:15:12.508797100Z"
    }
   },
   "outputs": [
    {
     "data": {
      "text/plain": [
       "8168"
      ]
     },
     "execution_count": 9,
     "metadata": {},
     "output_type": "execute_result"
    }
   ],
   "source": [
    "display.color_nodes(\"CS (5m)\", \"contribution\")"
   ]
  },
  {
   "cell_type": "code",
   "execution_count": 5,
   "metadata": {
    "ExecuteTime": {
     "end_time": "2023-05-10T18:42:33.396892Z",
     "start_time": "2023-05-10T18:42:33.275367Z"
    }
   },
   "outputs": [],
   "source": [
    "results.export(\"results.json\")"
   ]
  },
  {
   "cell_type": "code",
   "execution_count": null,
   "metadata": {},
   "outputs": [],
   "source": []
  }
 ],
 "metadata": {
  "kernelspec": {
   "display_name": "Python 3 (ipykernel)",
   "language": "python",
   "name": "python3"
  },
  "language_info": {
   "codemirror_mode": {
    "name": "ipython",
    "version": 3
   },
   "file_extension": ".py",
   "mimetype": "text/x-python",
   "name": "python",
   "nbconvert_exporter": "python",
   "pygments_lexer": "ipython3",
   "version": "3.10.0"
  }
 },
 "nbformat": 4,
 "nbformat_minor": 4
}
