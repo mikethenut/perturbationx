{
 "cells": [
  {
   "cell_type": "code",
   "execution_count": 1,
   "metadata": {
    "tags": [],
    "ExecuteTime": {
     "end_time": "2023-05-13T17:14:34.564348Z",
     "start_time": "2023-05-13T17:14:32.569919100Z"
    }
   },
   "outputs": [],
   "source": [
    "import pandas as pd\n",
    "from bnpa.CausalNetwork import CausalNetwork"
   ]
  },
  {
   "cell_type": "code",
   "execution_count": 2,
   "metadata": {
    "tags": [],
    "ExecuteTime": {
     "end_time": "2023-05-13T17:14:34.608423700Z",
     "start_time": "2023-05-13T17:14:34.568382400Z"
    }
   },
   "outputs": [],
   "source": [
    "my_cbn = CausalNetwork.from_tsv(\"data/NPANetworks/Hs_CFA_Apoptosis_backbone.tsv\", edge_type=\"core\")\n",
    "my_cbn.add_edges_from_tsv(\"data/NPANetworks/Hs_CFA_Apoptosis_downstream.tsv\", edge_type=\"boundary\")"
   ]
  },
  {
   "cell_type": "code",
   "execution_count": 3,
   "metadata": {
    "ExecuteTime": {
     "end_time": "2023-05-13T17:14:34.658066Z",
     "start_time": "2023-05-13T17:14:34.608423700Z"
    }
   },
   "outputs": [],
   "source": [
    "datasets = dict()\n",
    "\n",
    "# datasets[\"CS (2m) + Sham (3m)\"] = pd.read_table(\"./data/COPD1/CS (2m) + Sham (3m).tsv\")\n",
    "# datasets[\"CS (2m) + Sham (5m)\"] = pd.read_table(\"./data/COPD1/CS (2m) + Sham (5m).tsv\")\n",
    "# datasets[\"CS (4m) + Sham (1m)\"] = pd.read_table(\"./data/COPD1/CS (4m) + Sham (1m).tsv\")\n",
    "# datasets[\"CS (4m) + Sham (3m)\"] = pd.read_table(\"./data/COPD1/CS (4m) + Sham (3m).tsv\")\n",
    "datasets[\"CS (5m)\"] = pd.read_table(\"./data/COPD1/CS (5m).tsv\")\n",
    "datasets[\"CS (7m)\"] = pd.read_table(\"./data/COPD1/CS (7m).tsv\")\n",
    "\n",
    "for data_id, dataset in datasets.items():\n",
    "    datasets[data_id] = dataset.rename(columns={\"nodeLabel\": \"nodeID\", \"foldChange\": \"logFC\"})"
   ]
  },
  {
   "cell_type": "code",
   "execution_count": 4,
   "metadata": {
    "tags": [],
    "ExecuteTime": {
     "end_time": "2023-05-13T17:14:40.641064Z",
     "start_time": "2023-05-13T17:14:34.652065700Z"
    }
   },
   "outputs": [
    {
     "name": "stdout",
     "output_type": "stream",
     "text": [
      "2023-05-13 19:14:34,653 INFO -- PREPROCESSING NETWORK\n",
      "2023-05-13 19:14:34,741 INFO -- core edges: 230, boundary edges: 11114\n",
      "2023-05-13 19:14:34,742 INFO -- core nodes: 133, outer boundary nodes: 5729\n",
      "2023-05-13 19:14:34,743 INFO -- inner boundary nodes: 67\n",
      "2023-05-13 19:14:36,737 INFO -- COMPUTING NPA FOR DATASET 'CS (5m)'\n",
      "2023-05-13 19:14:36,746 INFO -- boundary nodes matched with dataset: 5225\n",
      "2023-05-13 19:14:38,563 INFO -- COMPUTING NPA FOR DATASET 'CS (7m)'\n",
      "2023-05-13 19:14:38,571 INFO -- boundary nodes matched with dataset: 5225\n"
     ]
    }
   ],
   "source": [
    "results = my_cbn.compute_npa(datasets)"
   ]
  },
  {
   "cell_type": "code",
   "execution_count": 5,
   "metadata": {
    "tags": [],
    "ExecuteTime": {
     "start_time": "2023-05-10T18:10:53.587392Z",
     "end_time": "2023-05-10T18:10:53.625315Z"
    }
   },
   "outputs": [
    {
     "data": {
      "text/plain": "              NPA  variance  ci_lower  ci_upper  k_value  o_value\nCS (5m)  0.102559  0.000015  0.094901  0.110217    0.026      0.0\nCS (7m)  0.085898  0.000019  0.077335  0.094462    0.030      0.0",
      "text/html": "<div>\n<style scoped>\n    .dataframe tbody tr th:only-of-type {\n        vertical-align: middle;\n    }\n\n    .dataframe tbody tr th {\n        vertical-align: top;\n    }\n\n    .dataframe thead th {\n        text-align: right;\n    }\n</style>\n<table border=\"1\" class=\"dataframe\">\n  <thead>\n    <tr style=\"text-align: right;\">\n      <th></th>\n      <th>NPA</th>\n      <th>variance</th>\n      <th>ci_lower</th>\n      <th>ci_upper</th>\n      <th>k_value</th>\n      <th>o_value</th>\n    </tr>\n  </thead>\n  <tbody>\n    <tr>\n      <th>CS (5m)</th>\n      <td>0.102559</td>\n      <td>0.000015</td>\n      <td>0.094901</td>\n      <td>0.110217</td>\n      <td>0.026</td>\n      <td>0.0</td>\n    </tr>\n    <tr>\n      <th>CS (7m)</th>\n      <td>0.085898</td>\n      <td>0.000019</td>\n      <td>0.077335</td>\n      <td>0.094462</td>\n      <td>0.030</td>\n      <td>0.0</td>\n    </tr>\n  </tbody>\n</table>\n</div>"
     },
     "metadata": {},
     "output_type": "display_data"
    }
   ],
   "source": [
    "display(results.global_info())"
   ]
  },
  {
   "cell_type": "code",
   "execution_count": 7,
   "outputs": [
    {
     "data": {
      "text/plain": "attr                                                contribution  coefficient  \\\nact(p(MGI:Tnfrsf10b))                                   0.002914     0.092696   \nact(p(MGI:Tlr4))                                        0.000903     0.083621   \np(MGI:Fasl)                                             0.008193     0.219812   \nact(complex(GOCC:\"mitochondrial permeability tr...      0.016611     0.255549   \nact(p(SFAM:\"PRKA Family\"))                              0.000260    -0.029584   \n...                                                          ...          ...   \nact(p(MGI:Map3k7))                                      0.000924     0.072456   \np(MGI:Stat3)                                            0.000281     0.040692   \np(MGI:Tnfrsf1a)                                         0.005713     0.183557   \na(SCHEM:\"Phosphatidylinositol-3,4,5-trisphospha...      0.000021     0.011127   \nact(p(MGI:Eif2ak3))                                     0.000744    -0.073854   \n\nattr                                                variance  ci_lower  \\\nact(p(MGI:Tnfrsf10b))                               0.000030  0.082017   \nact(p(MGI:Tlr4))                                    0.000007  0.078431   \np(MGI:Fasl)                                         0.000036  0.208104   \nact(complex(GOCC:\"mitochondrial permeability tr...  0.000025  0.245846   \nact(p(SFAM:\"PRKA Family\"))                          0.000016 -0.037354   \n...                                                      ...       ...   \nact(p(MGI:Map3k7))                                  0.000355  0.035521   \np(MGI:Stat3)                                        0.000007  0.035680   \np(MGI:Tnfrsf1a)                                     0.000025  0.173789   \na(SCHEM:\"Phosphatidylinositol-3,4,5-trisphospha...  0.000030  0.000370   \nact(p(MGI:Eif2ak3))                                 0.000007 -0.078980   \n\nattr                                                ci_upper       p_value  \nact(p(MGI:Tnfrsf10b))                               0.103374  0.000000e+00  \nact(p(MGI:Tlr4))                                    0.088812  0.000000e+00  \np(MGI:Fasl)                                         0.231521  0.000000e+00  \nact(complex(GOCC:\"mitochondrial permeability tr...  0.265252  0.000000e+00  \nact(p(SFAM:\"PRKA Family\"))                         -0.021815  4.229950e-14  \n...                                                      ...           ...  \nact(p(MGI:Map3k7))                                  0.109390  6.029602e-05  \np(MGI:Stat3)                                        0.045703  0.000000e+00  \np(MGI:Tnfrsf1a)                                     0.193324  0.000000e+00  \na(SCHEM:\"Phosphatidylinositol-3,4,5-trisphospha...  0.021883  2.131076e-02  \nact(p(MGI:Eif2ak3))                                -0.068727  0.000000e+00  \n\n[133 rows x 6 columns]",
      "text/html": "<div>\n<style scoped>\n    .dataframe tbody tr th:only-of-type {\n        vertical-align: middle;\n    }\n\n    .dataframe tbody tr th {\n        vertical-align: top;\n    }\n\n    .dataframe thead th {\n        text-align: right;\n    }\n</style>\n<table border=\"1\" class=\"dataframe\">\n  <thead>\n    <tr style=\"text-align: right;\">\n      <th>attr</th>\n      <th>contribution</th>\n      <th>coefficient</th>\n      <th>variance</th>\n      <th>ci_lower</th>\n      <th>ci_upper</th>\n      <th>p_value</th>\n    </tr>\n  </thead>\n  <tbody>\n    <tr>\n      <th>act(p(MGI:Tnfrsf10b))</th>\n      <td>0.002914</td>\n      <td>0.092696</td>\n      <td>0.000030</td>\n      <td>0.082017</td>\n      <td>0.103374</td>\n      <td>0.000000e+00</td>\n    </tr>\n    <tr>\n      <th>act(p(MGI:Tlr4))</th>\n      <td>0.000903</td>\n      <td>0.083621</td>\n      <td>0.000007</td>\n      <td>0.078431</td>\n      <td>0.088812</td>\n      <td>0.000000e+00</td>\n    </tr>\n    <tr>\n      <th>p(MGI:Fasl)</th>\n      <td>0.008193</td>\n      <td>0.219812</td>\n      <td>0.000036</td>\n      <td>0.208104</td>\n      <td>0.231521</td>\n      <td>0.000000e+00</td>\n    </tr>\n    <tr>\n      <th>act(complex(GOCC:\"mitochondrial permeability transition pore complex\"))</th>\n      <td>0.016611</td>\n      <td>0.255549</td>\n      <td>0.000025</td>\n      <td>0.245846</td>\n      <td>0.265252</td>\n      <td>0.000000e+00</td>\n    </tr>\n    <tr>\n      <th>act(p(SFAM:\"PRKA Family\"))</th>\n      <td>0.000260</td>\n      <td>-0.029584</td>\n      <td>0.000016</td>\n      <td>-0.037354</td>\n      <td>-0.021815</td>\n      <td>4.229950e-14</td>\n    </tr>\n    <tr>\n      <th>...</th>\n      <td>...</td>\n      <td>...</td>\n      <td>...</td>\n      <td>...</td>\n      <td>...</td>\n      <td>...</td>\n    </tr>\n    <tr>\n      <th>act(p(MGI:Map3k7))</th>\n      <td>0.000924</td>\n      <td>0.072456</td>\n      <td>0.000355</td>\n      <td>0.035521</td>\n      <td>0.109390</td>\n      <td>6.029602e-05</td>\n    </tr>\n    <tr>\n      <th>p(MGI:Stat3)</th>\n      <td>0.000281</td>\n      <td>0.040692</td>\n      <td>0.000007</td>\n      <td>0.035680</td>\n      <td>0.045703</td>\n      <td>0.000000e+00</td>\n    </tr>\n    <tr>\n      <th>p(MGI:Tnfrsf1a)</th>\n      <td>0.005713</td>\n      <td>0.183557</td>\n      <td>0.000025</td>\n      <td>0.173789</td>\n      <td>0.193324</td>\n      <td>0.000000e+00</td>\n    </tr>\n    <tr>\n      <th>a(SCHEM:\"Phosphatidylinositol-3,4,5-trisphosphate\")</th>\n      <td>0.000021</td>\n      <td>0.011127</td>\n      <td>0.000030</td>\n      <td>0.000370</td>\n      <td>0.021883</td>\n      <td>2.131076e-02</td>\n    </tr>\n    <tr>\n      <th>act(p(MGI:Eif2ak3))</th>\n      <td>0.000744</td>\n      <td>-0.073854</td>\n      <td>0.000007</td>\n      <td>-0.078980</td>\n      <td>-0.068727</td>\n      <td>0.000000e+00</td>\n    </tr>\n  </tbody>\n</table>\n<p>133 rows × 6 columns</p>\n</div>"
     },
     "metadata": {},
     "output_type": "display_data"
    }
   ],
   "source": [
    "display(results.node_info(\"CS (5m)\"))"
   ],
   "metadata": {
    "collapsed": false,
    "ExecuteTime": {
     "start_time": "2023-05-10T18:11:13.204669Z",
     "end_time": "2023-05-10T18:11:13.223575Z"
    }
   }
  },
  {
   "cell_type": "code",
   "execution_count": 8,
   "outputs": [
    {
     "data": {
      "text/plain": "['contribution', 'coefficient', 'variance', 'ci_lower', 'ci_upper', 'p_value']"
     },
     "execution_count": 8,
     "metadata": {},
     "output_type": "execute_result"
    }
   ],
   "source": [
    "results.node_attributes()"
   ],
   "metadata": {
    "collapsed": false,
    "ExecuteTime": {
     "start_time": "2023-05-10T18:11:18.627050Z",
     "end_time": "2023-05-10T18:11:18.693446Z"
    }
   }
  },
  {
   "cell_type": "code",
   "execution_count": 9,
   "outputs": [
    {
     "data": {
      "text/plain": "data                                                 CS (5m)   CS (7m)\nact(p(MGI:Tnfrsf10b))                               0.002914  0.002986\nact(p(MGI:Tlr4))                                    0.000903  0.000535\np(MGI:Fasl)                                         0.008193  0.009685\nact(complex(GOCC:\"mitochondrial permeability tr...  0.016611  0.016322\nact(p(SFAM:\"PRKA Family\"))                          0.000260  0.000288\n...                                                      ...       ...\nact(p(MGI:Map3k7))                                  0.000924  0.000038\np(MGI:Stat3)                                        0.000281  0.000285\np(MGI:Tnfrsf1a)                                     0.005713  0.005919\na(SCHEM:\"Phosphatidylinositol-3,4,5-trisphospha...  0.000021  0.000008\nact(p(MGI:Eif2ak3))                                 0.000744  0.000620\n\n[133 rows x 2 columns]",
      "text/html": "<div>\n<style scoped>\n    .dataframe tbody tr th:only-of-type {\n        vertical-align: middle;\n    }\n\n    .dataframe tbody tr th {\n        vertical-align: top;\n    }\n\n    .dataframe thead th {\n        text-align: right;\n    }\n</style>\n<table border=\"1\" class=\"dataframe\">\n  <thead>\n    <tr style=\"text-align: right;\">\n      <th>data</th>\n      <th>CS (5m)</th>\n      <th>CS (7m)</th>\n    </tr>\n  </thead>\n  <tbody>\n    <tr>\n      <th>act(p(MGI:Tnfrsf10b))</th>\n      <td>0.002914</td>\n      <td>0.002986</td>\n    </tr>\n    <tr>\n      <th>act(p(MGI:Tlr4))</th>\n      <td>0.000903</td>\n      <td>0.000535</td>\n    </tr>\n    <tr>\n      <th>p(MGI:Fasl)</th>\n      <td>0.008193</td>\n      <td>0.009685</td>\n    </tr>\n    <tr>\n      <th>act(complex(GOCC:\"mitochondrial permeability transition pore complex\"))</th>\n      <td>0.016611</td>\n      <td>0.016322</td>\n    </tr>\n    <tr>\n      <th>act(p(SFAM:\"PRKA Family\"))</th>\n      <td>0.000260</td>\n      <td>0.000288</td>\n    </tr>\n    <tr>\n      <th>...</th>\n      <td>...</td>\n      <td>...</td>\n    </tr>\n    <tr>\n      <th>act(p(MGI:Map3k7))</th>\n      <td>0.000924</td>\n      <td>0.000038</td>\n    </tr>\n    <tr>\n      <th>p(MGI:Stat3)</th>\n      <td>0.000281</td>\n      <td>0.000285</td>\n    </tr>\n    <tr>\n      <th>p(MGI:Tnfrsf1a)</th>\n      <td>0.005713</td>\n      <td>0.005919</td>\n    </tr>\n    <tr>\n      <th>a(SCHEM:\"Phosphatidylinositol-3,4,5-trisphosphate\")</th>\n      <td>0.000021</td>\n      <td>0.000008</td>\n    </tr>\n    <tr>\n      <th>act(p(MGI:Eif2ak3))</th>\n      <td>0.000744</td>\n      <td>0.000620</td>\n    </tr>\n  </tbody>\n</table>\n<p>133 rows × 2 columns</p>\n</div>"
     },
     "metadata": {},
     "output_type": "display_data"
    }
   ],
   "source": [
    "display(results.node_info(\"contribution\"))"
   ],
   "metadata": {
    "collapsed": false,
    "ExecuteTime": {
     "start_time": "2023-05-10T18:11:27.036444Z",
     "end_time": "2023-05-10T18:11:27.053994Z"
    }
   }
  },
  {
   "cell_type": "code",
   "execution_count": 10,
   "outputs": [
    {
     "data": {
      "text/plain": "['k_distribution', 'o_distribution']"
     },
     "execution_count": 10,
     "metadata": {},
     "output_type": "execute_result"
    }
   ],
   "source": [
    "results.distributions()"
   ],
   "metadata": {
    "collapsed": false,
    "ExecuteTime": {
     "start_time": "2023-05-10T18:11:33.872448Z",
     "end_time": "2023-05-10T18:11:33.885973Z"
    }
   }
  },
  {
   "cell_type": "code",
   "execution_count": 11,
   "outputs": [
    {
     "data": {
      "text/plain": "<Figure size 640x480 with 0 Axes>"
     },
     "metadata": {},
     "output_type": "display_data"
    },
    {
     "data": {
      "text/plain": "<Figure size 600x600 with 2 Axes>",
      "image/png": "[encoded data removed]"
     },
     "metadata": {},
     "output_type": "display_data"
    },
    {
     "data": {
      "text/plain": "array([<Axes: ylabel='CS (5m)'>, <Axes: ylabel='CS (7m)'>], dtype=object)"
     },
     "execution_count": 11,
     "metadata": {},
     "output_type": "execute_result"
    }
   ],
   "source": [
    "results.plot_distribution('k_distribution')"
   ],
   "metadata": {
    "collapsed": false,
    "ExecuteTime": {
     "start_time": "2023-05-10T18:11:37.295244Z",
     "end_time": "2023-05-10T18:11:37.789542Z"
    }
   }
  },
  {
   "cell_type": "code",
   "execution_count": 5,
   "outputs": [
    {
     "name": "stdout",
     "output_type": "stream",
     "text": [
      "2023-05-13 18:32:07,930 DEBUG -- Calling cytoscape_version_info()\n",
      "2023-05-13 18:32:07,931 DEBUG -- ǀCalling cyrest_get('version', base_url='http://127.0.0.1:1234/v1')\n",
      "2023-05-13 18:32:07,933 DEBUG -- Attempting to direct connect to Cytoscape on http://127.0.0.1:1234/v1\n",
      "2023-05-13 18:32:07,966 DEBUG -- Detected py4cytoscape running on Cytoscape workstation\n",
      "2023-05-13 18:32:07,968 DEBUG -- ǀHTTP GET(http://127.0.0.1:1234/v1/version)\n",
      "2023-05-13 18:32:07,981 DEBUG -- ǀOK[200], content: {\"apiVersion\":\"v1\",\"cytoscapeVersion\":\"3.10.0\"}\n",
      "2023-05-13 18:32:07,983 DEBUG -- ǀReturning 'cyrest_get': {'apiVersion': 'v1', 'cytoscapeVersion': '3.10.0'}\n",
      "2023-05-13 18:32:07,985 DEBUG -- Returning 'cytoscape_version_info': {'apiVersion': 'v1', 'cytoscapeVersion': '3.10.0', 'automationAPIVersion': '1.6.0', 'py4cytoscapeVersion': '1.6.0'}\n",
      "2023-05-13 18:32:07,987 DEBUG -- --------------------\n"
     ]
    },
    {
     "data": {
      "text/plain": "{'apiVersion': 'v1',\n 'cytoscapeVersion': '3.10.0',\n 'automationAPIVersion': '1.6.0',\n 'py4cytoscapeVersion': '1.6.0'}"
     },
     "execution_count": 5,
     "metadata": {},
     "output_type": "execute_result"
    }
   ],
   "source": [
    "import py4cytoscape as p4c\n",
    "p4c.cytoscape_version_info()"
   ],
   "metadata": {
    "collapsed": false,
    "ExecuteTime": {
     "end_time": "2023-05-13T16:32:08.025592600Z",
     "start_time": "2023-05-13T16:32:07.931340Z"
    }
   }
  },
  {
   "cell_type": "code",
   "execution_count": 10,
   "outputs": [
    {
     "data": {
      "text/plain": "976010"
     },
     "execution_count": 10,
     "metadata": {},
     "output_type": "execute_result"
    }
   ],
   "source": [
    "results.display_network(display_boundary=False)"
   ],
   "metadata": {
    "collapsed": false,
    "ExecuteTime": {
     "end_time": "2023-05-13T17:21:49.449856500Z",
     "start_time": "2023-05-13T17:21:45.783780Z"
    }
   }
  },
  {
   "cell_type": "code",
   "execution_count": 6,
   "outputs": [],
   "source": [
    "results.color_nodes(\"contribution\", \"CS (5m)\")"
   ],
   "metadata": {
    "collapsed": false,
    "ExecuteTime": {
     "end_time": "2023-05-11T10:38:30.243286100Z",
     "start_time": "2023-05-11T10:38:25.058013300Z"
    }
   }
  },
  {
   "cell_type": "code",
   "execution_count": 5,
   "outputs": [],
   "source": [
    "results.export(\"results.json\")"
   ],
   "metadata": {
    "collapsed": false,
    "ExecuteTime": {
     "start_time": "2023-05-10T18:42:33.275367Z",
     "end_time": "2023-05-10T18:42:33.396892Z"
    }
   }
  },
  {
   "cell_type": "code",
   "execution_count": null,
   "outputs": [],
   "source": [],
   "metadata": {
    "collapsed": false
   }
  }
 ],
 "metadata": {
  "kernelspec": {
   "display_name": "Python 3 (ipykernel)",
   "language": "python",
   "name": "python3"
  },
  "language_info": {
   "codemirror_mode": {
    "name": "ipython",
    "version": 3
   },
   "file_extension": ".py",
   "mimetype": "text/x-python",
   "name": "python",
   "nbconvert_exporter": "python",
   "pygments_lexer": "ipython3",
   "version": "3.11.0"
  }
 },
 "nbformat": 4,
 "nbformat_minor": 4
}
